{
 "cells": [
  {
   "cell_type": "markdown",
   "id": "21d71fbc-9df0-478a-bfde-862608583635",
   "metadata": {},
   "source": [
    "# Exploring & Creating Tables, EIA Selected Fuels"
   ]
  },
  {
   "cell_type": "code",
   "execution_count": 85,
   "id": "8b0ac7bd-9eda-40b4-8d3e-08137223b57a",
   "metadata": {},
   "outputs": [],
   "source": [
    "import pandas as pd\n",
    "import sqlalchemy\n",
    "import pymysql\n",
    "from sqlalchemy import create_engine\n",
    "from sqlalchemy import text\n",
    "import requests\n",
    "import datetime as dt"
   ]
  },
  {
   "cell_type": "code",
   "execution_count": 285,
   "id": "265e589f-6af0-457b-9047-62b6d4544d2e",
   "metadata": {},
   "outputs": [],
   "source": [
    "with open('db_string', 'r') as cadena:\n",
    "    engine = create_engine(cadena.readline())"
   ]
  },
  {
   "cell_type": "code",
   "execution_count": 3,
   "id": "38b38f97-3a39-4618-9cae-563b5ada2d58",
   "metadata": {},
   "outputs": [],
   "source": [
    "with open('API_KEY', 'r') as cadena:\n",
    "    api_key = cadena.readline().strip()"
   ]
  },
  {
   "cell_type": "markdown",
   "id": "1910e9db-6c35-4f10-b9c3-019be0a95059",
   "metadata": {},
   "source": [
    "#### Tables:  \n",
    "EIA_Fuels \n",
    "+ OilProd ✓  \n",
    "+ OilPrice ✓  \n",
    "+ NGasPrice ✓  \n",
    "+ NGasStorage ✓\n",
    "+ DryGasProd ✓  \n",
    "+ STEO ✓  \n",
    "+ APIStrings ✓  \n",
    "+ MetaOilProd ✓  \n",
    "+ MetaOilPrice ✓  \n",
    "+ MetaNGasPrice ✓  \n",
    "+ MetaNGasStorage ✓\n",
    "+ MetaDryGasProd ✓  \n",
    "+ MetaSTEO ✓ \n",
    "\n",
    "\n"
   ]
  },
  {
   "cell_type": "markdown",
   "id": "e568cff8-72a2-44fb-8217-3f9484a7286a",
   "metadata": {},
   "source": [
    "## OilProd & MetaOilProd"
   ]
  },
  {
   "cell_type": "code",
   "execution_count": 4,
   "id": "f11897e7-e94e-4bdd-a900-fbcf079e36e1",
   "metadata": {},
   "outputs": [],
   "source": [
    "url_OilProd = 'https://api.eia.gov/v2/petroleum/crd/crpdn/data/?frequency=monthly&data[0]=value&facets[series][]=MCRFPP11&facets[series][]=MCRFPP21&facets[series][]=MCRFPP31&facets[series][]=MCRFPP41&facets[series][]=MCRFPP51&start={0}&end={1}&sort[0][column]=period&sort[0][direction]=asc&offset=0&length=5000'+'&api_key={2}'"
   ]
  },
  {
   "cell_type": "code",
   "execution_count": 5,
   "id": "2b83d62e-4dc5-482f-bb8b-b9776ee2eaca",
   "metadata": {},
   "outputs": [
    {
     "data": {
      "text/plain": [
       "200"
      ]
     },
     "execution_count": 5,
     "metadata": {},
     "output_type": "execute_result"
    }
   ],
   "source": [
    "OilProd_qry = requests.get(url_OilProd.format('1980-01','2023-03', api_key))\n",
    "OilProd_qry.status_code"
   ]
  },
  {
   "cell_type": "code",
   "execution_count": 6,
   "id": "e5a08b30-b055-4377-bad9-987d617dc9ec",
   "metadata": {},
   "outputs": [
    {
     "data": {
      "text/plain": [
       "2520"
      ]
     },
     "execution_count": 6,
     "metadata": {},
     "output_type": "execute_result"
    }
   ],
   "source": [
    "OilProd_qry.json()['response']['total']"
   ]
  },
  {
   "cell_type": "code",
   "execution_count": 7,
   "id": "426fd984-7691-4ea4-9c2d-38234190d322",
   "metadata": {},
   "outputs": [],
   "source": [
    "df_OilProd = pd.DataFrame(OilProd_qry.json()['response']['data'])"
   ]
  },
  {
   "cell_type": "code",
   "execution_count": 8,
   "id": "57d94aac-59e1-4315-9daf-48d8a292d331",
   "metadata": {},
   "outputs": [],
   "source": [
    "df_OilProd['region']=df_OilProd['series-description'].apply(lambda x: x.split(' (')[0].replace(' ', '_')+'_MBBL' )"
   ]
  },
  {
   "cell_type": "code",
   "execution_count": 9,
   "id": "6edccf8c-9601-4256-969b-652ae7586fd1",
   "metadata": {},
   "outputs": [],
   "source": [
    "df_OilProd['periodDate'] = df_OilProd['period'].apply(lambda x : dt.date.fromisoformat(x+'-01'))"
   ]
  },
  {
   "cell_type": "code",
   "execution_count": 10,
   "id": "6ea0ba37-59db-4934-a83c-b98e91205681",
   "metadata": {},
   "outputs": [
    {
     "data": {
      "text/html": [
       "<div>\n",
       "<style scoped>\n",
       "    .dataframe tbody tr th:only-of-type {\n",
       "        vertical-align: middle;\n",
       "    }\n",
       "\n",
       "    .dataframe tbody tr th {\n",
       "        vertical-align: top;\n",
       "    }\n",
       "\n",
       "    .dataframe thead th {\n",
       "        text-align: right;\n",
       "    }\n",
       "</style>\n",
       "<table border=\"1\" class=\"dataframe\">\n",
       "  <thead>\n",
       "    <tr style=\"text-align: right;\">\n",
       "      <th></th>\n",
       "      <th>period</th>\n",
       "      <th>duoarea</th>\n",
       "      <th>area-name</th>\n",
       "      <th>product</th>\n",
       "      <th>product-name</th>\n",
       "      <th>process</th>\n",
       "      <th>process-name</th>\n",
       "      <th>series</th>\n",
       "      <th>series-description</th>\n",
       "      <th>value</th>\n",
       "      <th>units</th>\n",
       "      <th>region</th>\n",
       "      <th>periodDate</th>\n",
       "    </tr>\n",
       "  </thead>\n",
       "  <tbody>\n",
       "    <tr>\n",
       "      <th>0</th>\n",
       "      <td>1981-01</td>\n",
       "      <td>R10</td>\n",
       "      <td>PADD 1</td>\n",
       "      <td>EPC0</td>\n",
       "      <td>Crude Oil</td>\n",
       "      <td>FPF</td>\n",
       "      <td>Field Production</td>\n",
       "      <td>MCRFPP11</td>\n",
       "      <td>East Coast (PADD 1) Field Production of Crude ...</td>\n",
       "      <td>4243</td>\n",
       "      <td>MBBL</td>\n",
       "      <td>East_Coast_MBBL</td>\n",
       "      <td>1981-01-01</td>\n",
       "    </tr>\n",
       "    <tr>\n",
       "      <th>1</th>\n",
       "      <td>1981-01</td>\n",
       "      <td>R50</td>\n",
       "      <td>PADD 5</td>\n",
       "      <td>EPC0</td>\n",
       "      <td>Crude Oil</td>\n",
       "      <td>FPF</td>\n",
       "      <td>Field Production</td>\n",
       "      <td>MCRFPP51</td>\n",
       "      <td>West Coast (PADD 5) Field Production of Crude ...</td>\n",
       "      <td>81057</td>\n",
       "      <td>MBBL</td>\n",
       "      <td>West_Coast_MBBL</td>\n",
       "      <td>1981-01-01</td>\n",
       "    </tr>\n",
       "    <tr>\n",
       "      <th>2</th>\n",
       "      <td>1981-01</td>\n",
       "      <td>R40</td>\n",
       "      <td>PADD 4</td>\n",
       "      <td>EPC0</td>\n",
       "      <td>Crude Oil</td>\n",
       "      <td>FPF</td>\n",
       "      <td>Field Production</td>\n",
       "      <td>MCRFPP41</td>\n",
       "      <td>Rocky Mountain (PADD 4) Field Production of Cr...</td>\n",
       "      <td>18161</td>\n",
       "      <td>MBBL</td>\n",
       "      <td>Rocky_Mountain_MBBL</td>\n",
       "      <td>1981-01-01</td>\n",
       "    </tr>\n",
       "    <tr>\n",
       "      <th>3</th>\n",
       "      <td>1981-01</td>\n",
       "      <td>R30</td>\n",
       "      <td>PADD 3</td>\n",
       "      <td>EPC0</td>\n",
       "      <td>Crude Oil</td>\n",
       "      <td>FPF</td>\n",
       "      <td>Field Production</td>\n",
       "      <td>MCRFPP31</td>\n",
       "      <td>Gulf Coast (PADD 3) Field Production of Crude ...</td>\n",
       "      <td>132577</td>\n",
       "      <td>MBBL</td>\n",
       "      <td>Gulf_Coast_MBBL</td>\n",
       "      <td>1981-01-01</td>\n",
       "    </tr>\n",
       "    <tr>\n",
       "      <th>4</th>\n",
       "      <td>1981-01</td>\n",
       "      <td>R20</td>\n",
       "      <td>PADD 2</td>\n",
       "      <td>EPC0</td>\n",
       "      <td>Crude Oil</td>\n",
       "      <td>FPF</td>\n",
       "      <td>Field Production</td>\n",
       "      <td>MCRFPP21</td>\n",
       "      <td>Midwest (PADD 2) Field Production of Crude Oil...</td>\n",
       "      <td>28698</td>\n",
       "      <td>MBBL</td>\n",
       "      <td>Midwest_MBBL</td>\n",
       "      <td>1981-01-01</td>\n",
       "    </tr>\n",
       "  </tbody>\n",
       "</table>\n",
       "</div>"
      ],
      "text/plain": [
       "    period duoarea area-name product product-name process      process-name  \\\n",
       "0  1981-01     R10    PADD 1    EPC0    Crude Oil     FPF  Field Production   \n",
       "1  1981-01     R50    PADD 5    EPC0    Crude Oil     FPF  Field Production   \n",
       "2  1981-01     R40    PADD 4    EPC0    Crude Oil     FPF  Field Production   \n",
       "3  1981-01     R30    PADD 3    EPC0    Crude Oil     FPF  Field Production   \n",
       "4  1981-01     R20    PADD 2    EPC0    Crude Oil     FPF  Field Production   \n",
       "\n",
       "     series                                 series-description   value units  \\\n",
       "0  MCRFPP11  East Coast (PADD 1) Field Production of Crude ...    4243  MBBL   \n",
       "1  MCRFPP51  West Coast (PADD 5) Field Production of Crude ...   81057  MBBL   \n",
       "2  MCRFPP41  Rocky Mountain (PADD 4) Field Production of Cr...   18161  MBBL   \n",
       "3  MCRFPP31  Gulf Coast (PADD 3) Field Production of Crude ...  132577  MBBL   \n",
       "4  MCRFPP21  Midwest (PADD 2) Field Production of Crude Oil...   28698  MBBL   \n",
       "\n",
       "                region  periodDate  \n",
       "0      East_Coast_MBBL  1981-01-01  \n",
       "1      West_Coast_MBBL  1981-01-01  \n",
       "2  Rocky_Mountain_MBBL  1981-01-01  \n",
       "3      Gulf_Coast_MBBL  1981-01-01  \n",
       "4         Midwest_MBBL  1981-01-01  "
      ]
     },
     "execution_count": 10,
     "metadata": {},
     "output_type": "execute_result"
    }
   ],
   "source": [
    "df_OilProd.head(5)"
   ]
  },
  {
   "cell_type": "code",
   "execution_count": 11,
   "id": "b53f9448-a08f-4485-a5eb-85ffd94dc8d4",
   "metadata": {},
   "outputs": [
    {
     "data": {
      "text/plain": [
       "5"
      ]
     },
     "execution_count": 11,
     "metadata": {},
     "output_type": "execute_result"
    }
   ],
   "source": [
    "df_OilProd.head(5).to_sql('MetaOilProd', con=engine, if_exists='replace', index=False)"
   ]
  },
  {
   "cell_type": "code",
   "execution_count": 12,
   "id": "6b97aee2-0179-49bf-93df-b4afe0f9c4ff",
   "metadata": {},
   "outputs": [
    {
     "data": {
      "text/plain": [
       "<sqlalchemy.engine.cursor.CursorResult at 0x7f560b0b1f40>"
      ]
     },
     "execution_count": 12,
     "metadata": {},
     "output_type": "execute_result"
    }
   ],
   "source": [
    "engine.connect().execute(text('ALTER TABLE MetaOilProd MODIFY periodDate DATE NOT NULL;'))"
   ]
  },
  {
   "cell_type": "code",
   "execution_count": 13,
   "id": "8c822839-873e-4070-bbcf-e81621264ca6",
   "metadata": {},
   "outputs": [
    {
     "data": {
      "text/plain": [
       "<sqlalchemy.engine.cursor.CursorResult at 0x7f560b06c880>"
      ]
     },
     "execution_count": 13,
     "metadata": {},
     "output_type": "execute_result"
    }
   ],
   "source": [
    "engine.connect().execute(text('ALTER TABLE MetaOilProd MODIFY region VARCHAR(21) NOT NULL;'))"
   ]
  },
  {
   "cell_type": "code",
   "execution_count": 14,
   "id": "f477fe2a-5e29-4403-8df7-f621b1bddc7b",
   "metadata": {},
   "outputs": [
    {
     "data": {
      "text/plain": [
       "<sqlalchemy.engine.cursor.CursorResult at 0x7f560b06cc40>"
      ]
     },
     "execution_count": 14,
     "metadata": {},
     "output_type": "execute_result"
    }
   ],
   "source": [
    "engine.connect().execute(text(\"ALTER TABLE MetaOilProd ADD PRIMARY KEY (periodDate, region);\"))"
   ]
  },
  {
   "cell_type": "code",
   "execution_count": 15,
   "id": "8b5bcce3-4d7f-4ff9-a6e3-2691aa108c15",
   "metadata": {},
   "outputs": [],
   "source": [
    "df_OilProd_trab = df_OilProd.pivot(index='periodDate', columns='region', values='value').reset_index()"
   ]
  },
  {
   "cell_type": "code",
   "execution_count": 16,
   "id": "25acdeb5-f544-4194-827c-e2cb3b70e59a",
   "metadata": {},
   "outputs": [
    {
     "data": {
      "text/html": [
       "<div>\n",
       "<style scoped>\n",
       "    .dataframe tbody tr th:only-of-type {\n",
       "        vertical-align: middle;\n",
       "    }\n",
       "\n",
       "    .dataframe tbody tr th {\n",
       "        vertical-align: top;\n",
       "    }\n",
       "\n",
       "    .dataframe thead th {\n",
       "        text-align: right;\n",
       "    }\n",
       "</style>\n",
       "<table border=\"1\" class=\"dataframe\">\n",
       "  <thead>\n",
       "    <tr style=\"text-align: right;\">\n",
       "      <th>region</th>\n",
       "      <th>periodDate</th>\n",
       "      <th>East_Coast_MBBL</th>\n",
       "      <th>Gulf_Coast_MBBL</th>\n",
       "      <th>Midwest_MBBL</th>\n",
       "      <th>Rocky_Mountain_MBBL</th>\n",
       "      <th>West_Coast_MBBL</th>\n",
       "    </tr>\n",
       "  </thead>\n",
       "  <tbody>\n",
       "    <tr>\n",
       "      <th>0</th>\n",
       "      <td>1981-01-01</td>\n",
       "      <td>4243</td>\n",
       "      <td>132577</td>\n",
       "      <td>28698</td>\n",
       "      <td>18161</td>\n",
       "      <td>81057</td>\n",
       "    </tr>\n",
       "    <tr>\n",
       "      <th>1</th>\n",
       "      <td>1981-02-01</td>\n",
       "      <td>3751</td>\n",
       "      <td>119414</td>\n",
       "      <td>27285</td>\n",
       "      <td>16783</td>\n",
       "      <td>73681</td>\n",
       "    </tr>\n",
       "  </tbody>\n",
       "</table>\n",
       "</div>"
      ],
      "text/plain": [
       "region  periodDate  East_Coast_MBBL  Gulf_Coast_MBBL  Midwest_MBBL  \\\n",
       "0       1981-01-01             4243           132577         28698   \n",
       "1       1981-02-01             3751           119414         27285   \n",
       "\n",
       "region  Rocky_Mountain_MBBL  West_Coast_MBBL  \n",
       "0                     18161            81057  \n",
       "1                     16783            73681  "
      ]
     },
     "execution_count": 16,
     "metadata": {},
     "output_type": "execute_result"
    }
   ],
   "source": [
    "df_OilProd_trab.head(2)"
   ]
  },
  {
   "cell_type": "code",
   "execution_count": 17,
   "id": "bfac0ccd-899b-4041-a8a5-fd9ee08a9e13",
   "metadata": {},
   "outputs": [
    {
     "data": {
      "text/html": [
       "<div>\n",
       "<style scoped>\n",
       "    .dataframe tbody tr th:only-of-type {\n",
       "        vertical-align: middle;\n",
       "    }\n",
       "\n",
       "    .dataframe tbody tr th {\n",
       "        vertical-align: top;\n",
       "    }\n",
       "\n",
       "    .dataframe thead th {\n",
       "        text-align: right;\n",
       "    }\n",
       "</style>\n",
       "<table border=\"1\" class=\"dataframe\">\n",
       "  <thead>\n",
       "    <tr style=\"text-align: right;\">\n",
       "      <th>region</th>\n",
       "      <th>periodDate</th>\n",
       "      <th>East_Coast_MBBL</th>\n",
       "      <th>Gulf_Coast_MBBL</th>\n",
       "      <th>Midwest_MBBL</th>\n",
       "      <th>Rocky_Mountain_MBBL</th>\n",
       "      <th>West_Coast_MBBL</th>\n",
       "    </tr>\n",
       "  </thead>\n",
       "  <tbody>\n",
       "    <tr>\n",
       "      <th>502</th>\n",
       "      <td>2022-11-01</td>\n",
       "      <td>1884</td>\n",
       "      <td>266766</td>\n",
       "      <td>51816</td>\n",
       "      <td>27431</td>\n",
       "      <td>23420</td>\n",
       "    </tr>\n",
       "    <tr>\n",
       "      <th>503</th>\n",
       "      <td>2022-12-01</td>\n",
       "      <td>1902</td>\n",
       "      <td>274367</td>\n",
       "      <td>48320</td>\n",
       "      <td>26384</td>\n",
       "      <td>24162</td>\n",
       "    </tr>\n",
       "  </tbody>\n",
       "</table>\n",
       "</div>"
      ],
      "text/plain": [
       "region  periodDate  East_Coast_MBBL  Gulf_Coast_MBBL  Midwest_MBBL  \\\n",
       "502     2022-11-01             1884           266766         51816   \n",
       "503     2022-12-01             1902           274367         48320   \n",
       "\n",
       "region  Rocky_Mountain_MBBL  West_Coast_MBBL  \n",
       "502                   27431            23420  \n",
       "503                   26384            24162  "
      ]
     },
     "execution_count": 17,
     "metadata": {},
     "output_type": "execute_result"
    }
   ],
   "source": [
    "df_OilProd_trab.tail(2)"
   ]
  },
  {
   "cell_type": "code",
   "execution_count": 48,
   "id": "6891f21c-3bad-4b35-854f-8b8163cb9353",
   "metadata": {},
   "outputs": [
    {
     "data": {
      "text/html": [
       "<div>\n",
       "<style scoped>\n",
       "    .dataframe tbody tr th:only-of-type {\n",
       "        vertical-align: middle;\n",
       "    }\n",
       "\n",
       "    .dataframe tbody tr th {\n",
       "        vertical-align: top;\n",
       "    }\n",
       "\n",
       "    .dataframe thead th {\n",
       "        text-align: right;\n",
       "    }\n",
       "</style>\n",
       "<table border=\"1\" class=\"dataframe\">\n",
       "  <thead>\n",
       "    <tr style=\"text-align: right;\">\n",
       "      <th>region</th>\n",
       "      <th>East_Coast_MBBL</th>\n",
       "      <th>Gulf_Coast_MBBL</th>\n",
       "      <th>Midwest_MBBL</th>\n",
       "      <th>Rocky_Mountain_MBBL</th>\n",
       "      <th>West_Coast_MBBL</th>\n",
       "    </tr>\n",
       "  </thead>\n",
       "  <tbody>\n",
       "    <tr>\n",
       "      <th>count</th>\n",
       "      <td>504.000000</td>\n",
       "      <td>504.000000</td>\n",
       "      <td>504.000000</td>\n",
       "      <td>504.000000</td>\n",
       "      <td>504.000000</td>\n",
       "    </tr>\n",
       "    <tr>\n",
       "      <th>mean</th>\n",
       "      <td>1220.408730</td>\n",
       "      <td>126730.404762</td>\n",
       "      <td>28988.617063</td>\n",
       "      <td>15487.119048</td>\n",
       "      <td>57366.484127</td>\n",
       "    </tr>\n",
       "    <tr>\n",
       "      <th>std</th>\n",
       "      <td>712.716936</td>\n",
       "      <td>48099.466344</td>\n",
       "      <td>15972.766725</td>\n",
       "      <td>5604.292099</td>\n",
       "      <td>23507.413737</td>\n",
       "    </tr>\n",
       "    <tr>\n",
       "      <th>min</th>\n",
       "      <td>399.000000</td>\n",
       "      <td>49933.000000</td>\n",
       "      <td>12123.000000</td>\n",
       "      <td>8139.000000</td>\n",
       "      <td>22409.000000</td>\n",
       "    </tr>\n",
       "    <tr>\n",
       "      <th>25%</th>\n",
       "      <td>657.750000</td>\n",
       "      <td>97060.500000</td>\n",
       "      <td>16346.250000</td>\n",
       "      <td>11055.000000</td>\n",
       "      <td>34819.000000</td>\n",
       "    </tr>\n",
       "    <tr>\n",
       "      <th>50%</th>\n",
       "      <td>881.000000</td>\n",
       "      <td>103815.000000</td>\n",
       "      <td>22902.500000</td>\n",
       "      <td>14341.500000</td>\n",
       "      <td>54093.500000</td>\n",
       "    </tr>\n",
       "    <tr>\n",
       "      <th>75%</th>\n",
       "      <td>1688.000000</td>\n",
       "      <td>132538.750000</td>\n",
       "      <td>35121.000000</td>\n",
       "      <td>18464.250000</td>\n",
       "      <td>81336.750000</td>\n",
       "    </tr>\n",
       "    <tr>\n",
       "      <th>max</th>\n",
       "      <td>4243.000000</td>\n",
       "      <td>277358.000000</td>\n",
       "      <td>72803.000000</td>\n",
       "      <td>31796.000000</td>\n",
       "      <td>98056.000000</td>\n",
       "    </tr>\n",
       "  </tbody>\n",
       "</table>\n",
       "</div>"
      ],
      "text/plain": [
       "region  East_Coast_MBBL  Gulf_Coast_MBBL  Midwest_MBBL  Rocky_Mountain_MBBL  \\\n",
       "count        504.000000       504.000000    504.000000           504.000000   \n",
       "mean        1220.408730    126730.404762  28988.617063         15487.119048   \n",
       "std          712.716936     48099.466344  15972.766725          5604.292099   \n",
       "min          399.000000     49933.000000  12123.000000          8139.000000   \n",
       "25%          657.750000     97060.500000  16346.250000         11055.000000   \n",
       "50%          881.000000    103815.000000  22902.500000         14341.500000   \n",
       "75%         1688.000000    132538.750000  35121.000000         18464.250000   \n",
       "max         4243.000000    277358.000000  72803.000000         31796.000000   \n",
       "\n",
       "region  West_Coast_MBBL  \n",
       "count        504.000000  \n",
       "mean       57366.484127  \n",
       "std        23507.413737  \n",
       "min        22409.000000  \n",
       "25%        34819.000000  \n",
       "50%        54093.500000  \n",
       "75%        81336.750000  \n",
       "max        98056.000000  "
      ]
     },
     "execution_count": 48,
     "metadata": {},
     "output_type": "execute_result"
    }
   ],
   "source": [
    "df_OilProd_trab.describe()"
   ]
  },
  {
   "cell_type": "code",
   "execution_count": 52,
   "id": "9fee0dba-1c5b-4639-8b7f-a60e8e5c6d4b",
   "metadata": {},
   "outputs": [
    {
     "data": {
      "text/plain": [
       "['periodDate',\n",
       " 'East_Coast_MBBL',\n",
       " 'Gulf_Coast_MBBL',\n",
       " 'Midwest_MBBL',\n",
       " 'Rocky_Mountain_MBBL',\n",
       " 'West_Coast_MBBL',\n",
       " 6,\n",
       " 8,\n",
       " 7,\n",
       " 7,\n",
       " 7]"
      ]
     },
     "execution_count": 52,
     "metadata": {},
     "output_type": "execute_result"
    }
   ],
   "source": [
    "aux_OilProd = [i for i in df_OilProd_trab.columns] + [len(str(int(df_OilProd_trab.describe().loc['max',][i])))+2 for i in df_OilProd_trab.describe().columns]\n",
    "aux_OilProd"
   ]
  },
  {
   "cell_type": "code",
   "execution_count": 53,
   "id": "a3dc61de-cef5-49f2-861c-eb1444a3cf16",
   "metadata": {},
   "outputs": [],
   "source": [
    "crear_OilProd = '''\n",
    "CREATE TABLE OilProd (\n",
    " {0} DATE,\n",
    " {1} DECIMAL({6}),\n",
    " {2} DECIMAL({7}),\n",
    " {3} DECIMAL({8}),\n",
    " {4} DECIMAL({9}),\n",
    " {5} DECIMAL({10}),\n",
    " PRIMARY KEY({0})\n",
    ")ENGINE=InnoDB DEFAULT CHARSET=utf8mb4 COLLATE=utf8mb4_unicode_ci;\n",
    "'''"
   ]
  },
  {
   "cell_type": "code",
   "execution_count": 59,
   "id": "a41c5dce-383e-4165-9979-bce43a2216e6",
   "metadata": {},
   "outputs": [],
   "source": [
    "with engine.connect() as conn:\n",
    "    sql = text('DROP TABLE IF EXISTS {}'.format('OilProd'))\n",
    "    conn.execute(sql)\n",
    "    sql2 = text(crear_OilProd.format(*aux_OilProd))\n",
    "    conn.execute(sql2)"
   ]
  },
  {
   "cell_type": "code",
   "execution_count": 61,
   "id": "fa4096de-f92e-4edc-9210-993a6dca3879",
   "metadata": {},
   "outputs": [
    {
     "data": {
      "text/plain": [
       "504"
      ]
     },
     "execution_count": 61,
     "metadata": {},
     "output_type": "execute_result"
    }
   ],
   "source": [
    "df_OilProd_trab.to_sql('OilProd', engine, index=False, if_exists='append')"
   ]
  },
  {
   "cell_type": "markdown",
   "id": "79558486-86f8-493e-bada-78aa324d7d20",
   "metadata": {},
   "source": [
    "## OilPrice & MetaOilPrice"
   ]
  },
  {
   "cell_type": "code",
   "execution_count": 63,
   "id": "9091da0f-c52c-46a0-84a8-d564396f61b1",
   "metadata": {},
   "outputs": [],
   "source": [
    "url_OilPrice = 'https://api.eia.gov/v2/petroleum/pri/spt/data/?frequency=monthly&data[0]=value&facets[product][]=EPCWTI&facets[product][]=EPD2DXL0&facets[product][]=EPMRU&facets[product][]=EPCBRENT&facets[product][]=EPLLPA&start={0}&end={1}&sort[0][column]=period&sort[0][direction]=asc&offset=0&length=5000&api_key={2}'"
   ]
  },
  {
   "cell_type": "code",
   "execution_count": 66,
   "id": "bc4eae89-660a-4be0-9014-cd169dbf73d4",
   "metadata": {},
   "outputs": [
    {
     "data": {
      "text/plain": [
       "200"
      ]
     },
     "execution_count": 66,
     "metadata": {},
     "output_type": "execute_result"
    }
   ],
   "source": [
    "OilPrice_qry = requests.get(url_OilPrice.format('1980-01','2023-03', api_key))\n",
    "OilPrice_qry.status_code"
   ]
  },
  {
   "cell_type": "code",
   "execution_count": 67,
   "id": "5f5b7558-fd06-4c60-a7bb-f591e0ad301a",
   "metadata": {},
   "outputs": [
    {
     "data": {
      "text/plain": [
       "2529"
      ]
     },
     "execution_count": 67,
     "metadata": {},
     "output_type": "execute_result"
    }
   ],
   "source": [
    "OilPrice_qry.json()['response']['total']"
   ]
  },
  {
   "cell_type": "code",
   "execution_count": 68,
   "id": "4ad0d7f1-86db-4918-ac4f-eb3953d2b372",
   "metadata": {},
   "outputs": [],
   "source": [
    "df_OilPrice = pd.DataFrame(OilPrice_qry.json()['response']['data'])"
   ]
  },
  {
   "cell_type": "code",
   "execution_count": 72,
   "id": "ea59b1fd-9ac3-4dfe-bedc-d2d521e83f43",
   "metadata": {},
   "outputs": [
    {
     "data": {
      "text/html": [
       "<div>\n",
       "<style scoped>\n",
       "    .dataframe tbody tr th:only-of-type {\n",
       "        vertical-align: middle;\n",
       "    }\n",
       "\n",
       "    .dataframe tbody tr th {\n",
       "        vertical-align: top;\n",
       "    }\n",
       "\n",
       "    .dataframe thead th {\n",
       "        text-align: right;\n",
       "    }\n",
       "</style>\n",
       "<table border=\"1\" class=\"dataframe\">\n",
       "  <thead>\n",
       "    <tr style=\"text-align: right;\">\n",
       "      <th></th>\n",
       "      <th>period</th>\n",
       "      <th>duoarea</th>\n",
       "      <th>area-name</th>\n",
       "      <th>product</th>\n",
       "      <th>product-name</th>\n",
       "      <th>process</th>\n",
       "      <th>process-name</th>\n",
       "      <th>series</th>\n",
       "      <th>series-description</th>\n",
       "      <th>value</th>\n",
       "      <th>units</th>\n",
       "    </tr>\n",
       "  </thead>\n",
       "  <tbody>\n",
       "    <tr>\n",
       "      <th>2522</th>\n",
       "      <td>2023-02</td>\n",
       "      <td>Y35NY</td>\n",
       "      <td>NEW YORK CITY</td>\n",
       "      <td>EPD2DXL0</td>\n",
       "      <td>No 2 Diesel Low Sulfur (0-15 ppm)</td>\n",
       "      <td>PF4</td>\n",
       "      <td>Spot Price FOB</td>\n",
       "      <td>EER_EPD2DXL0_PF4_Y35NY_DPG</td>\n",
       "      <td>New York Harbor Ultra-Low Sulfur No 2 Diesel S...</td>\n",
       "      <td>2.832</td>\n",
       "      <td>$/GAL</td>\n",
       "    </tr>\n",
       "    <tr>\n",
       "      <th>2523</th>\n",
       "      <td>2023-02</td>\n",
       "      <td>RGC</td>\n",
       "      <td>NA</td>\n",
       "      <td>EPMRU</td>\n",
       "      <td>Conventional Regular Gasoline</td>\n",
       "      <td>PF4</td>\n",
       "      <td>Spot Price FOB</td>\n",
       "      <td>EER_EPMRU_PF4_RGC_DPG</td>\n",
       "      <td>U.S. Gulf Coast Conventional Gasoline Regular ...</td>\n",
       "      <td>2.416</td>\n",
       "      <td>$/GAL</td>\n",
       "    </tr>\n",
       "    <tr>\n",
       "      <th>2524</th>\n",
       "      <td>2023-02</td>\n",
       "      <td>YCUOK</td>\n",
       "      <td>NA</td>\n",
       "      <td>EPCWTI</td>\n",
       "      <td>WTI Crude Oil</td>\n",
       "      <td>PF4</td>\n",
       "      <td>Spot Price FOB</td>\n",
       "      <td>RWTC</td>\n",
       "      <td>Cushing, OK WTI Spot Price FOB (Dollars per Ba...</td>\n",
       "      <td>76.830</td>\n",
       "      <td>$/BBL</td>\n",
       "    </tr>\n",
       "    <tr>\n",
       "      <th>2525</th>\n",
       "      <td>2023-02</td>\n",
       "      <td>ZEU</td>\n",
       "      <td>NA</td>\n",
       "      <td>EPCBRENT</td>\n",
       "      <td>UK Brent Crude Oil</td>\n",
       "      <td>PF4</td>\n",
       "      <td>Spot Price FOB</td>\n",
       "      <td>RBRTE</td>\n",
       "      <td>Europe Brent Spot Price FOB (Dollars per Barrel)</td>\n",
       "      <td>82.590</td>\n",
       "      <td>$/BBL</td>\n",
       "    </tr>\n",
       "    <tr>\n",
       "      <th>2526</th>\n",
       "      <td>2023-02</td>\n",
       "      <td>Y44MB</td>\n",
       "      <td>NA</td>\n",
       "      <td>EPLLPA</td>\n",
       "      <td>Propane</td>\n",
       "      <td>PF4</td>\n",
       "      <td>Spot Price FOB</td>\n",
       "      <td>EER_EPLLPA_PF4_Y44MB_DPG</td>\n",
       "      <td>Mont Belvieu, TX Propane Spot Price FOB (Dolla...</td>\n",
       "      <td>0.828</td>\n",
       "      <td>$/GAL</td>\n",
       "    </tr>\n",
       "    <tr>\n",
       "      <th>2527</th>\n",
       "      <td>2023-02</td>\n",
       "      <td>RGC</td>\n",
       "      <td>NA</td>\n",
       "      <td>EPD2DXL0</td>\n",
       "      <td>No 2 Diesel Low Sulfur (0-15 ppm)</td>\n",
       "      <td>PF4</td>\n",
       "      <td>Spot Price FOB</td>\n",
       "      <td>EER_EPD2DXL0_PF4_RGC_DPG</td>\n",
       "      <td>U.S. Gulf Coast Ultra-Low Sulfur No 2 Diesel S...</td>\n",
       "      <td>2.771</td>\n",
       "      <td>$/GAL</td>\n",
       "    </tr>\n",
       "    <tr>\n",
       "      <th>2528</th>\n",
       "      <td>2023-02</td>\n",
       "      <td>Y35NY</td>\n",
       "      <td>NEW YORK CITY</td>\n",
       "      <td>EPMRU</td>\n",
       "      <td>Conventional Regular Gasoline</td>\n",
       "      <td>PF4</td>\n",
       "      <td>Spot Price FOB</td>\n",
       "      <td>EER_EPMRU_PF4_Y35NY_DPG</td>\n",
       "      <td>New York Harbor Conventional Gasoline Regular ...</td>\n",
       "      <td>2.532</td>\n",
       "      <td>$/GAL</td>\n",
       "    </tr>\n",
       "  </tbody>\n",
       "</table>\n",
       "</div>"
      ],
      "text/plain": [
       "       period duoarea      area-name   product  \\\n",
       "2522  2023-02   Y35NY  NEW YORK CITY  EPD2DXL0   \n",
       "2523  2023-02     RGC             NA     EPMRU   \n",
       "2524  2023-02   YCUOK             NA    EPCWTI   \n",
       "2525  2023-02     ZEU             NA  EPCBRENT   \n",
       "2526  2023-02   Y44MB             NA    EPLLPA   \n",
       "2527  2023-02     RGC             NA  EPD2DXL0   \n",
       "2528  2023-02   Y35NY  NEW YORK CITY     EPMRU   \n",
       "\n",
       "                           product-name process    process-name  \\\n",
       "2522  No 2 Diesel Low Sulfur (0-15 ppm)     PF4  Spot Price FOB   \n",
       "2523      Conventional Regular Gasoline     PF4  Spot Price FOB   \n",
       "2524                      WTI Crude Oil     PF4  Spot Price FOB   \n",
       "2525                 UK Brent Crude Oil     PF4  Spot Price FOB   \n",
       "2526                            Propane     PF4  Spot Price FOB   \n",
       "2527  No 2 Diesel Low Sulfur (0-15 ppm)     PF4  Spot Price FOB   \n",
       "2528      Conventional Regular Gasoline     PF4  Spot Price FOB   \n",
       "\n",
       "                          series  \\\n",
       "2522  EER_EPD2DXL0_PF4_Y35NY_DPG   \n",
       "2523       EER_EPMRU_PF4_RGC_DPG   \n",
       "2524                        RWTC   \n",
       "2525                       RBRTE   \n",
       "2526    EER_EPLLPA_PF4_Y44MB_DPG   \n",
       "2527    EER_EPD2DXL0_PF4_RGC_DPG   \n",
       "2528     EER_EPMRU_PF4_Y35NY_DPG   \n",
       "\n",
       "                                     series-description   value  units  \n",
       "2522  New York Harbor Ultra-Low Sulfur No 2 Diesel S...   2.832  $/GAL  \n",
       "2523  U.S. Gulf Coast Conventional Gasoline Regular ...   2.416  $/GAL  \n",
       "2524  Cushing, OK WTI Spot Price FOB (Dollars per Ba...  76.830  $/BBL  \n",
       "2525   Europe Brent Spot Price FOB (Dollars per Barrel)  82.590  $/BBL  \n",
       "2526  Mont Belvieu, TX Propane Spot Price FOB (Dolla...   0.828  $/GAL  \n",
       "2527  U.S. Gulf Coast Ultra-Low Sulfur No 2 Diesel S...   2.771  $/GAL  \n",
       "2528  New York Harbor Conventional Gasoline Regular ...   2.532  $/GAL  "
      ]
     },
     "execution_count": 72,
     "metadata": {},
     "output_type": "execute_result"
    }
   ],
   "source": [
    "df_OilPrice.tail(7)"
   ]
  },
  {
   "cell_type": "code",
   "execution_count": 74,
   "id": "e5566df8-83cf-482e-b18b-8fa0f5998620",
   "metadata": {},
   "outputs": [],
   "source": [
    "prod_OilPrice = {\n",
    "    'EER_EPD2DXL0_PF4_Y35NY_DPG':'NYH_ULSD_N2_GAL',\n",
    "    'RWTC':'WTI_FOB_BBL',\n",
    "    'EER_EPMRU_PF4_RGC_DPG':'USGC_RGAS_GAL',\n",
    "    'RBRTE':'BRENT_FOB_BBL',\n",
    "    'EER_EPLLPA_PF4_Y44MB_DPG':'MBTX_C3_GAL',\n",
    "    'EER_EPMRU_PF4_Y35NY_DPG':'NYH_RGAS_GAL',\n",
    "    'EER_EPD2DXL0_PF4_RGC_DPG':'USGC_ULSD_N2_GAL'\n",
    "}"
   ]
  },
  {
   "cell_type": "code",
   "execution_count": 75,
   "id": "f0cb7e9c-4ada-48e8-b6c7-80fb81829281",
   "metadata": {},
   "outputs": [],
   "source": [
    "df_OilPrice['prod']=df_OilPrice['series'].map(prod_OilPrice)"
   ]
  },
  {
   "cell_type": "code",
   "execution_count": 93,
   "id": "675fc6be-8c7c-4ade-a237-74a38ffdb372",
   "metadata": {},
   "outputs": [],
   "source": [
    "df_OilPrice['periodDate'] = df_OilPrice['period'].apply(lambda x: dt.date.fromisoformat(x+'-01'))"
   ]
  },
  {
   "cell_type": "code",
   "execution_count": 94,
   "id": "34e7736c-3cfc-4c8a-a19f-ba1edf4e1a80",
   "metadata": {},
   "outputs": [
    {
     "data": {
      "text/html": [
       "<div>\n",
       "<style scoped>\n",
       "    .dataframe tbody tr th:only-of-type {\n",
       "        vertical-align: middle;\n",
       "    }\n",
       "\n",
       "    .dataframe tbody tr th {\n",
       "        vertical-align: top;\n",
       "    }\n",
       "\n",
       "    .dataframe thead th {\n",
       "        text-align: right;\n",
       "    }\n",
       "</style>\n",
       "<table border=\"1\" class=\"dataframe\">\n",
       "  <thead>\n",
       "    <tr style=\"text-align: right;\">\n",
       "      <th></th>\n",
       "      <th>period</th>\n",
       "      <th>duoarea</th>\n",
       "      <th>area-name</th>\n",
       "      <th>product</th>\n",
       "      <th>product-name</th>\n",
       "      <th>process</th>\n",
       "      <th>process-name</th>\n",
       "      <th>series</th>\n",
       "      <th>series-description</th>\n",
       "      <th>value</th>\n",
       "      <th>units</th>\n",
       "      <th>prod</th>\n",
       "      <th>periodDate</th>\n",
       "    </tr>\n",
       "  </thead>\n",
       "  <tbody>\n",
       "    <tr>\n",
       "      <th>0</th>\n",
       "      <td>1986-01</td>\n",
       "      <td>YCUOK</td>\n",
       "      <td>NA</td>\n",
       "      <td>EPCWTI</td>\n",
       "      <td>WTI Crude Oil</td>\n",
       "      <td>PF4</td>\n",
       "      <td>Spot Price FOB</td>\n",
       "      <td>RWTC</td>\n",
       "      <td>Cushing, OK WTI Spot Price FOB (Dollars per Ba...</td>\n",
       "      <td>22.93</td>\n",
       "      <td>$/BBL</td>\n",
       "      <td>WTI_FOB_BBL</td>\n",
       "      <td>1986-01-01</td>\n",
       "    </tr>\n",
       "    <tr>\n",
       "      <th>1</th>\n",
       "      <td>1986-02</td>\n",
       "      <td>YCUOK</td>\n",
       "      <td>NA</td>\n",
       "      <td>EPCWTI</td>\n",
       "      <td>WTI Crude Oil</td>\n",
       "      <td>PF4</td>\n",
       "      <td>Spot Price FOB</td>\n",
       "      <td>RWTC</td>\n",
       "      <td>Cushing, OK WTI Spot Price FOB (Dollars per Ba...</td>\n",
       "      <td>15.46</td>\n",
       "      <td>$/BBL</td>\n",
       "      <td>WTI_FOB_BBL</td>\n",
       "      <td>1986-02-01</td>\n",
       "    </tr>\n",
       "  </tbody>\n",
       "</table>\n",
       "</div>"
      ],
      "text/plain": [
       "    period duoarea area-name product   product-name process    process-name  \\\n",
       "0  1986-01   YCUOK        NA  EPCWTI  WTI Crude Oil     PF4  Spot Price FOB   \n",
       "1  1986-02   YCUOK        NA  EPCWTI  WTI Crude Oil     PF4  Spot Price FOB   \n",
       "\n",
       "  series                                 series-description  value  units  \\\n",
       "0   RWTC  Cushing, OK WTI Spot Price FOB (Dollars per Ba...  22.93  $/BBL   \n",
       "1   RWTC  Cushing, OK WTI Spot Price FOB (Dollars per Ba...  15.46  $/BBL   \n",
       "\n",
       "          prod  periodDate  \n",
       "0  WTI_FOB_BBL  1986-01-01  \n",
       "1  WTI_FOB_BBL  1986-02-01  "
      ]
     },
     "execution_count": 94,
     "metadata": {},
     "output_type": "execute_result"
    }
   ],
   "source": [
    "df_OilPrice.head(2)"
   ]
  },
  {
   "cell_type": "code",
   "execution_count": 95,
   "id": "887ac1ab-bf81-4a40-8285-94a97cf982b1",
   "metadata": {},
   "outputs": [],
   "source": [
    "df_OilPrice_trab = df_OilPrice.pivot(index='periodDate', columns='prod', values='value')"
   ]
  },
  {
   "cell_type": "code",
   "execution_count": 97,
   "id": "87d2858a-a300-4b1e-82a8-6c198e2c5acd",
   "metadata": {},
   "outputs": [],
   "source": [
    "df_OilPrice_trab.reset_index(inplace=True)"
   ]
  },
  {
   "cell_type": "code",
   "execution_count": 98,
   "id": "fc79f318-a4a6-414e-a27b-0305ab7c38cb",
   "metadata": {},
   "outputs": [
    {
     "data": {
      "text/html": [
       "<div>\n",
       "<style scoped>\n",
       "    .dataframe tbody tr th:only-of-type {\n",
       "        vertical-align: middle;\n",
       "    }\n",
       "\n",
       "    .dataframe tbody tr th {\n",
       "        vertical-align: top;\n",
       "    }\n",
       "\n",
       "    .dataframe thead th {\n",
       "        text-align: right;\n",
       "    }\n",
       "</style>\n",
       "<table border=\"1\" class=\"dataframe\">\n",
       "  <thead>\n",
       "    <tr style=\"text-align: right;\">\n",
       "      <th>prod</th>\n",
       "      <th>periodDate</th>\n",
       "      <th>BRENT_FOB_BBL</th>\n",
       "      <th>MBTX_C3_GAL</th>\n",
       "      <th>NYH_RGAS_GAL</th>\n",
       "      <th>NYH_ULSD_N2_GAL</th>\n",
       "      <th>USGC_RGAS_GAL</th>\n",
       "      <th>USGC_ULSD_N2_GAL</th>\n",
       "      <th>WTI_FOB_BBL</th>\n",
       "    </tr>\n",
       "  </thead>\n",
       "  <tbody>\n",
       "    <tr>\n",
       "      <th>0</th>\n",
       "      <td>1986-01-01</td>\n",
       "      <td>NaN</td>\n",
       "      <td>NaN</td>\n",
       "      <td>NaN</td>\n",
       "      <td>NaN</td>\n",
       "      <td>NaN</td>\n",
       "      <td>NaN</td>\n",
       "      <td>22.93</td>\n",
       "    </tr>\n",
       "    <tr>\n",
       "      <th>1</th>\n",
       "      <td>1986-02-01</td>\n",
       "      <td>NaN</td>\n",
       "      <td>NaN</td>\n",
       "      <td>NaN</td>\n",
       "      <td>NaN</td>\n",
       "      <td>NaN</td>\n",
       "      <td>NaN</td>\n",
       "      <td>15.46</td>\n",
       "    </tr>\n",
       "    <tr>\n",
       "      <th>2</th>\n",
       "      <td>1986-03-01</td>\n",
       "      <td>NaN</td>\n",
       "      <td>NaN</td>\n",
       "      <td>NaN</td>\n",
       "      <td>NaN</td>\n",
       "      <td>NaN</td>\n",
       "      <td>NaN</td>\n",
       "      <td>12.61</td>\n",
       "    </tr>\n",
       "  </tbody>\n",
       "</table>\n",
       "</div>"
      ],
      "text/plain": [
       "prod  periodDate  BRENT_FOB_BBL  MBTX_C3_GAL  NYH_RGAS_GAL  NYH_ULSD_N2_GAL  \\\n",
       "0     1986-01-01            NaN          NaN           NaN              NaN   \n",
       "1     1986-02-01            NaN          NaN           NaN              NaN   \n",
       "2     1986-03-01            NaN          NaN           NaN              NaN   \n",
       "\n",
       "prod  USGC_RGAS_GAL  USGC_ULSD_N2_GAL  WTI_FOB_BBL  \n",
       "0               NaN               NaN        22.93  \n",
       "1               NaN               NaN        15.46  \n",
       "2               NaN               NaN        12.61  "
      ]
     },
     "execution_count": 98,
     "metadata": {},
     "output_type": "execute_result"
    }
   ],
   "source": [
    "df_OilPrice_trab.head(3)"
   ]
  },
  {
   "cell_type": "code",
   "execution_count": 99,
   "id": "c3a64928-8bff-4f4d-a92d-a299a640ca52",
   "metadata": {},
   "outputs": [
    {
     "data": {
      "text/html": [
       "<div>\n",
       "<style scoped>\n",
       "    .dataframe tbody tr th:only-of-type {\n",
       "        vertical-align: middle;\n",
       "    }\n",
       "\n",
       "    .dataframe tbody tr th {\n",
       "        vertical-align: top;\n",
       "    }\n",
       "\n",
       "    .dataframe thead th {\n",
       "        text-align: right;\n",
       "    }\n",
       "</style>\n",
       "<table border=\"1\" class=\"dataframe\">\n",
       "  <thead>\n",
       "    <tr style=\"text-align: right;\">\n",
       "      <th>prod</th>\n",
       "      <th>periodDate</th>\n",
       "      <th>BRENT_FOB_BBL</th>\n",
       "      <th>MBTX_C3_GAL</th>\n",
       "      <th>NYH_RGAS_GAL</th>\n",
       "      <th>NYH_ULSD_N2_GAL</th>\n",
       "      <th>USGC_RGAS_GAL</th>\n",
       "      <th>USGC_ULSD_N2_GAL</th>\n",
       "      <th>WTI_FOB_BBL</th>\n",
       "    </tr>\n",
       "  </thead>\n",
       "  <tbody>\n",
       "    <tr>\n",
       "      <th>443</th>\n",
       "      <td>2022-12-01</td>\n",
       "      <td>80.92</td>\n",
       "      <td>0.692</td>\n",
       "      <td>2.366</td>\n",
       "      <td>3.117</td>\n",
       "      <td>2.157</td>\n",
       "      <td>2.975</td>\n",
       "      <td>76.44</td>\n",
       "    </tr>\n",
       "    <tr>\n",
       "      <th>444</th>\n",
       "      <td>2023-01-01</td>\n",
       "      <td>82.50</td>\n",
       "      <td>0.842</td>\n",
       "      <td>2.593</td>\n",
       "      <td>3.267</td>\n",
       "      <td>2.534</td>\n",
       "      <td>3.207</td>\n",
       "      <td>78.12</td>\n",
       "    </tr>\n",
       "    <tr>\n",
       "      <th>445</th>\n",
       "      <td>2023-02-01</td>\n",
       "      <td>82.59</td>\n",
       "      <td>0.828</td>\n",
       "      <td>2.532</td>\n",
       "      <td>2.832</td>\n",
       "      <td>2.416</td>\n",
       "      <td>2.771</td>\n",
       "      <td>76.83</td>\n",
       "    </tr>\n",
       "  </tbody>\n",
       "</table>\n",
       "</div>"
      ],
      "text/plain": [
       "prod  periodDate  BRENT_FOB_BBL  MBTX_C3_GAL  NYH_RGAS_GAL  NYH_ULSD_N2_GAL  \\\n",
       "443   2022-12-01          80.92        0.692         2.366            3.117   \n",
       "444   2023-01-01          82.50        0.842         2.593            3.267   \n",
       "445   2023-02-01          82.59        0.828         2.532            2.832   \n",
       "\n",
       "prod  USGC_RGAS_GAL  USGC_ULSD_N2_GAL  WTI_FOB_BBL  \n",
       "443           2.157             2.975        76.44  \n",
       "444           2.534             3.207        78.12  \n",
       "445           2.416             2.771        76.83  "
      ]
     },
     "execution_count": 99,
     "metadata": {},
     "output_type": "execute_result"
    }
   ],
   "source": [
    "df_OilPrice_trab.tail(3)"
   ]
  },
  {
   "cell_type": "code",
   "execution_count": 100,
   "id": "5551f2b1-659f-49a7-b0c9-86c841922b56",
   "metadata": {},
   "outputs": [
    {
     "data": {
      "text/plain": [
       "7"
      ]
     },
     "execution_count": 100,
     "metadata": {},
     "output_type": "execute_result"
    }
   ],
   "source": [
    "df_OilPrice.tail(7).to_sql('MetaOilPrice', con=engine, if_exists='replace', index=False)"
   ]
  },
  {
   "cell_type": "code",
   "execution_count": 101,
   "id": "6067a2d6-46d2-4da0-9aba-60742fc8a171",
   "metadata": {},
   "outputs": [
    {
     "data": {
      "text/html": [
       "<div>\n",
       "<style scoped>\n",
       "    .dataframe tbody tr th:only-of-type {\n",
       "        vertical-align: middle;\n",
       "    }\n",
       "\n",
       "    .dataframe tbody tr th {\n",
       "        vertical-align: top;\n",
       "    }\n",
       "\n",
       "    .dataframe thead th {\n",
       "        text-align: right;\n",
       "    }\n",
       "</style>\n",
       "<table border=\"1\" class=\"dataframe\">\n",
       "  <thead>\n",
       "    <tr style=\"text-align: right;\">\n",
       "      <th>prod</th>\n",
       "      <th>BRENT_FOB_BBL</th>\n",
       "      <th>MBTX_C3_GAL</th>\n",
       "      <th>NYH_RGAS_GAL</th>\n",
       "      <th>NYH_ULSD_N2_GAL</th>\n",
       "      <th>USGC_RGAS_GAL</th>\n",
       "      <th>USGC_ULSD_N2_GAL</th>\n",
       "      <th>WTI_FOB_BBL</th>\n",
       "    </tr>\n",
       "  </thead>\n",
       "  <tbody>\n",
       "    <tr>\n",
       "      <th>count</th>\n",
       "      <td>430.000000</td>\n",
       "      <td>369.000000</td>\n",
       "      <td>441.000000</td>\n",
       "      <td>201.000000</td>\n",
       "      <td>441.000000</td>\n",
       "      <td>201.000000</td>\n",
       "      <td>446.000000</td>\n",
       "    </tr>\n",
       "    <tr>\n",
       "      <th>mean</th>\n",
       "      <td>48.750140</td>\n",
       "      <td>0.723691</td>\n",
       "      <td>1.356066</td>\n",
       "      <td>2.289627</td>\n",
       "      <td>1.322043</td>\n",
       "      <td>2.231303</td>\n",
       "      <td>46.196099</td>\n",
       "    </tr>\n",
       "    <tr>\n",
       "      <th>std</th>\n",
       "      <td>32.935506</td>\n",
       "      <td>0.373357</td>\n",
       "      <td>0.859066</td>\n",
       "      <td>0.757449</td>\n",
       "      <td>0.838910</td>\n",
       "      <td>0.731697</td>\n",
       "      <td>29.517886</td>\n",
       "    </tr>\n",
       "    <tr>\n",
       "      <th>min</th>\n",
       "      <td>9.820000</td>\n",
       "      <td>0.209000</td>\n",
       "      <td>0.307000</td>\n",
       "      <td>0.880000</td>\n",
       "      <td>0.294000</td>\n",
       "      <td>0.804000</td>\n",
       "      <td>11.350000</td>\n",
       "    </tr>\n",
       "    <tr>\n",
       "      <th>25%</th>\n",
       "      <td>19.035000</td>\n",
       "      <td>0.387000</td>\n",
       "      <td>0.593000</td>\n",
       "      <td>1.794000</td>\n",
       "      <td>0.578000</td>\n",
       "      <td>1.756000</td>\n",
       "      <td>19.975000</td>\n",
       "    </tr>\n",
       "    <tr>\n",
       "      <th>50%</th>\n",
       "      <td>39.775000</td>\n",
       "      <td>0.638000</td>\n",
       "      <td>1.119000</td>\n",
       "      <td>2.106000</td>\n",
       "      <td>1.090000</td>\n",
       "      <td>2.071000</td>\n",
       "      <td>36.390000</td>\n",
       "    </tr>\n",
       "    <tr>\n",
       "      <th>75%</th>\n",
       "      <td>71.297500</td>\n",
       "      <td>0.980000</td>\n",
       "      <td>1.995000</td>\n",
       "      <td>2.938000</td>\n",
       "      <td>1.958000</td>\n",
       "      <td>2.904000</td>\n",
       "      <td>67.827500</td>\n",
       "    </tr>\n",
       "    <tr>\n",
       "      <th>max</th>\n",
       "      <td>132.720000</td>\n",
       "      <td>1.862000</td>\n",
       "      <td>4.082000</td>\n",
       "      <td>4.646000</td>\n",
       "      <td>4.049000</td>\n",
       "      <td>4.286000</td>\n",
       "      <td>133.880000</td>\n",
       "    </tr>\n",
       "  </tbody>\n",
       "</table>\n",
       "</div>"
      ],
      "text/plain": [
       "prod   BRENT_FOB_BBL  MBTX_C3_GAL  NYH_RGAS_GAL  NYH_ULSD_N2_GAL  \\\n",
       "count     430.000000   369.000000    441.000000       201.000000   \n",
       "mean       48.750140     0.723691      1.356066         2.289627   \n",
       "std        32.935506     0.373357      0.859066         0.757449   \n",
       "min         9.820000     0.209000      0.307000         0.880000   \n",
       "25%        19.035000     0.387000      0.593000         1.794000   \n",
       "50%        39.775000     0.638000      1.119000         2.106000   \n",
       "75%        71.297500     0.980000      1.995000         2.938000   \n",
       "max       132.720000     1.862000      4.082000         4.646000   \n",
       "\n",
       "prod   USGC_RGAS_GAL  USGC_ULSD_N2_GAL  WTI_FOB_BBL  \n",
       "count     441.000000        201.000000   446.000000  \n",
       "mean        1.322043          2.231303    46.196099  \n",
       "std         0.838910          0.731697    29.517886  \n",
       "min         0.294000          0.804000    11.350000  \n",
       "25%         0.578000          1.756000    19.975000  \n",
       "50%         1.090000          2.071000    36.390000  \n",
       "75%         1.958000          2.904000    67.827500  \n",
       "max         4.049000          4.286000   133.880000  "
      ]
     },
     "execution_count": 101,
     "metadata": {},
     "output_type": "execute_result"
    }
   ],
   "source": [
    "df_OilPrice_trab.describe()"
   ]
  },
  {
   "cell_type": "code",
   "execution_count": 103,
   "id": "0a1d7e5f-16bf-4958-9a60-22a1bd856d13",
   "metadata": {},
   "outputs": [
    {
     "data": {
      "text/plain": [
       "['periodDate',\n",
       " 'BRENT_FOB_BBL',\n",
       " 'MBTX_C3_GAL',\n",
       " 'NYH_RGAS_GAL',\n",
       " 'NYH_ULSD_N2_GAL',\n",
       " 'USGC_RGAS_GAL',\n",
       " 'USGC_ULSD_N2_GAL',\n",
       " 'WTI_FOB_BBL']"
      ]
     },
     "execution_count": 103,
     "metadata": {},
     "output_type": "execute_result"
    }
   ],
   "source": [
    "aux_OilPrice = [i for i in df_OilPrice_trab.columns]\n",
    "aux_OilPrice"
   ]
  },
  {
   "cell_type": "code",
   "execution_count": 104,
   "id": "45726e89-003c-489b-bac1-d6d54e35ee95",
   "metadata": {},
   "outputs": [],
   "source": [
    "crear_OilPrice = '''\n",
    "CREATE TABLE OilPrice (\n",
    " {0} DATE,\n",
    " {1} DECIMAL(7,3),\n",
    " {2} DECIMAL(7,3),\n",
    " {3} DECIMAL(7,3),\n",
    " {4} DECIMAL(7,3),\n",
    " {5} DECIMAL(7,3),\n",
    " {6} DECIMAL(7,3),\n",
    " {7} DECIMAL(7,3),\n",
    " PRIMARY KEY({0})\n",
    ")ENGINE=InnoDB DEFAULT CHARSET=utf8mb4 COLLATE=utf8mb4_unicode_ci;\n",
    "'''"
   ]
  },
  {
   "cell_type": "code",
   "execution_count": 106,
   "id": "9926d0ea-b566-4492-9d64-f32ae9626e70",
   "metadata": {},
   "outputs": [],
   "source": [
    "with engine.connect() as conn:\n",
    "    sql = text('DROP TABLE IF EXISTS {}'.format('OilPrice'))\n",
    "    conn.execute(sql)\n",
    "    sql2 = text(crear_OilPrice.format(*aux_OilPrice))\n",
    "    conn.execute(sql2)"
   ]
  },
  {
   "cell_type": "code",
   "execution_count": 107,
   "id": "c4cafb4f-7dea-4e1c-9d56-1d9c90593443",
   "metadata": {},
   "outputs": [
    {
     "data": {
      "text/plain": [
       "446"
      ]
     },
     "execution_count": 107,
     "metadata": {},
     "output_type": "execute_result"
    }
   ],
   "source": [
    "df_OilPrice_trab.to_sql('OilPrice', engine, index=False, if_exists='append')"
   ]
  },
  {
   "cell_type": "markdown",
   "id": "577d219a-119a-41be-9b4b-52fd14bcdc56",
   "metadata": {},
   "source": [
    "## NGasPrice & MetaNGasPrice"
   ]
  },
  {
   "cell_type": "code",
   "execution_count": 273,
   "id": "98af4963-8ddd-4dba-b098-cae9562e630a",
   "metadata": {},
   "outputs": [],
   "source": [
    "url_NGasPrice = 'https://api.eia.gov/v2/natural-gas/pri/fut/data/?frequency=monthly&data[0]=value&facets[series][]=RNGC1&facets[series][]=RNGC2&facets[series][]=RNGC3&facets[series][]=RNGC4&facets[series][]=RNGWHHD&start={0}&end={1}&sort[0][column]=period&sort[0][direction]=asc&offset=0&length=5000'+'&api_key={2}'"
   ]
  },
  {
   "cell_type": "code",
   "execution_count": 274,
   "id": "f5f63dc1-8308-479d-b093-023204cc1129",
   "metadata": {},
   "outputs": [
    {
     "data": {
      "text/plain": [
       "200"
      ]
     },
     "execution_count": 274,
     "metadata": {},
     "output_type": "execute_result"
    }
   ],
   "source": [
    "NGasPrice_qry = requests.get(url_NGasPrice.format('1986-01','2023-03', api_key))\n",
    "NGasPrice_qry.status_code"
   ]
  },
  {
   "cell_type": "code",
   "execution_count": 275,
   "id": "ff84c08d-80de-47b4-af7f-35733022312b",
   "metadata": {},
   "outputs": [
    {
     "data": {
      "text/plain": [
       "2029"
      ]
     },
     "execution_count": 275,
     "metadata": {},
     "output_type": "execute_result"
    }
   ],
   "source": [
    "NGasPrice_qry.json()['response']['total']"
   ]
  },
  {
   "cell_type": "code",
   "execution_count": 276,
   "id": "a76678d4-572d-4742-b870-c027e3a3ac84",
   "metadata": {},
   "outputs": [],
   "source": [
    "df_NGasPrice = pd.DataFrame( NGasPrice_qry.json()['response']['data'] )"
   ]
  },
  {
   "cell_type": "code",
   "execution_count": 277,
   "id": "0f984163-3ba6-4d19-8321-9e30e06167c9",
   "metadata": {},
   "outputs": [
    {
     "data": {
      "text/html": [
       "<div>\n",
       "<style scoped>\n",
       "    .dataframe tbody tr th:only-of-type {\n",
       "        vertical-align: middle;\n",
       "    }\n",
       "\n",
       "    .dataframe tbody tr th {\n",
       "        vertical-align: top;\n",
       "    }\n",
       "\n",
       "    .dataframe thead th {\n",
       "        text-align: right;\n",
       "    }\n",
       "</style>\n",
       "<table border=\"1\" class=\"dataframe\">\n",
       "  <thead>\n",
       "    <tr style=\"text-align: right;\">\n",
       "      <th></th>\n",
       "      <th>period</th>\n",
       "      <th>duoarea</th>\n",
       "      <th>area-name</th>\n",
       "      <th>product</th>\n",
       "      <th>product-name</th>\n",
       "      <th>process</th>\n",
       "      <th>process-name</th>\n",
       "      <th>series</th>\n",
       "      <th>series-description</th>\n",
       "      <th>value</th>\n",
       "      <th>units</th>\n",
       "    </tr>\n",
       "  </thead>\n",
       "  <tbody>\n",
       "    <tr>\n",
       "      <th>149</th>\n",
       "      <td>1997-01</td>\n",
       "      <td>RGC</td>\n",
       "      <td>NA</td>\n",
       "      <td>EPG0</td>\n",
       "      <td>Natural Gas</td>\n",
       "      <td>PS0</td>\n",
       "      <td>Spot Price</td>\n",
       "      <td>RNGWHHD</td>\n",
       "      <td>Henry Hub Natural Gas Spot Price (Dollars per ...</td>\n",
       "      <td>3.45</td>\n",
       "      <td>$/MMBTU</td>\n",
       "    </tr>\n",
       "    <tr>\n",
       "      <th>150</th>\n",
       "      <td>1997-02</td>\n",
       "      <td>RGC</td>\n",
       "      <td>NA</td>\n",
       "      <td>EPG0</td>\n",
       "      <td>Natural Gas</td>\n",
       "      <td>PS0</td>\n",
       "      <td>Spot Price</td>\n",
       "      <td>RNGWHHD</td>\n",
       "      <td>Henry Hub Natural Gas Spot Price (Dollars per ...</td>\n",
       "      <td>2.15</td>\n",
       "      <td>$/MMBTU</td>\n",
       "    </tr>\n",
       "    <tr>\n",
       "      <th>155</th>\n",
       "      <td>1997-03</td>\n",
       "      <td>RGC</td>\n",
       "      <td>NA</td>\n",
       "      <td>EPG0</td>\n",
       "      <td>Natural Gas</td>\n",
       "      <td>PS0</td>\n",
       "      <td>Spot Price</td>\n",
       "      <td>RNGWHHD</td>\n",
       "      <td>Henry Hub Natural Gas Spot Price (Dollars per ...</td>\n",
       "      <td>1.89</td>\n",
       "      <td>$/MMBTU</td>\n",
       "    </tr>\n",
       "    <tr>\n",
       "      <th>164</th>\n",
       "      <td>1997-04</td>\n",
       "      <td>RGC</td>\n",
       "      <td>NA</td>\n",
       "      <td>EPG0</td>\n",
       "      <td>Natural Gas</td>\n",
       "      <td>PS0</td>\n",
       "      <td>Spot Price</td>\n",
       "      <td>RNGWHHD</td>\n",
       "      <td>Henry Hub Natural Gas Spot Price (Dollars per ...</td>\n",
       "      <td>2.03</td>\n",
       "      <td>$/MMBTU</td>\n",
       "    </tr>\n",
       "    <tr>\n",
       "      <th>167</th>\n",
       "      <td>1997-05</td>\n",
       "      <td>RGC</td>\n",
       "      <td>NA</td>\n",
       "      <td>EPG0</td>\n",
       "      <td>Natural Gas</td>\n",
       "      <td>PS0</td>\n",
       "      <td>Spot Price</td>\n",
       "      <td>RNGWHHD</td>\n",
       "      <td>Henry Hub Natural Gas Spot Price (Dollars per ...</td>\n",
       "      <td>2.25</td>\n",
       "      <td>$/MMBTU</td>\n",
       "    </tr>\n",
       "  </tbody>\n",
       "</table>\n",
       "</div>"
      ],
      "text/plain": [
       "      period duoarea area-name product product-name process process-name  \\\n",
       "149  1997-01     RGC        NA    EPG0  Natural Gas     PS0   Spot Price   \n",
       "150  1997-02     RGC        NA    EPG0  Natural Gas     PS0   Spot Price   \n",
       "155  1997-03     RGC        NA    EPG0  Natural Gas     PS0   Spot Price   \n",
       "164  1997-04     RGC        NA    EPG0  Natural Gas     PS0   Spot Price   \n",
       "167  1997-05     RGC        NA    EPG0  Natural Gas     PS0   Spot Price   \n",
       "\n",
       "      series                                 series-description  value  \\\n",
       "149  RNGWHHD  Henry Hub Natural Gas Spot Price (Dollars per ...   3.45   \n",
       "150  RNGWHHD  Henry Hub Natural Gas Spot Price (Dollars per ...   2.15   \n",
       "155  RNGWHHD  Henry Hub Natural Gas Spot Price (Dollars per ...   1.89   \n",
       "164  RNGWHHD  Henry Hub Natural Gas Spot Price (Dollars per ...   2.03   \n",
       "167  RNGWHHD  Henry Hub Natural Gas Spot Price (Dollars per ...   2.25   \n",
       "\n",
       "       units  \n",
       "149  $/MMBTU  \n",
       "150  $/MMBTU  \n",
       "155  $/MMBTU  \n",
       "164  $/MMBTU  \n",
       "167  $/MMBTU  "
      ]
     },
     "execution_count": 277,
     "metadata": {},
     "output_type": "execute_result"
    }
   ],
   "source": [
    "df_NGasPrice[df_NGasPrice['duoarea']=='RGC'].head()"
   ]
  },
  {
   "cell_type": "code",
   "execution_count": 278,
   "id": "e374374a-c489-4a1e-9503-c71ecdc653d9",
   "metadata": {},
   "outputs": [
    {
     "data": {
      "text/html": [
       "<div>\n",
       "<style scoped>\n",
       "    .dataframe tbody tr th:only-of-type {\n",
       "        vertical-align: middle;\n",
       "    }\n",
       "\n",
       "    .dataframe tbody tr th {\n",
       "        vertical-align: top;\n",
       "    }\n",
       "\n",
       "    .dataframe thead th {\n",
       "        text-align: right;\n",
       "    }\n",
       "</style>\n",
       "<table border=\"1\" class=\"dataframe\">\n",
       "  <thead>\n",
       "    <tr style=\"text-align: right;\">\n",
       "      <th></th>\n",
       "      <th>period</th>\n",
       "      <th>duoarea</th>\n",
       "      <th>area-name</th>\n",
       "      <th>product</th>\n",
       "      <th>product-name</th>\n",
       "      <th>process</th>\n",
       "      <th>process-name</th>\n",
       "      <th>series</th>\n",
       "      <th>series-description</th>\n",
       "      <th>value</th>\n",
       "      <th>units</th>\n",
       "    </tr>\n",
       "  </thead>\n",
       "  <tbody>\n",
       "    <tr>\n",
       "      <th>143</th>\n",
       "      <td>1996-12</td>\n",
       "      <td>Y35NY</td>\n",
       "      <td>NEW YORK CITY</td>\n",
       "      <td>EPG0</td>\n",
       "      <td>Natural Gas</td>\n",
       "      <td>PE3</td>\n",
       "      <td>Future Contract 3</td>\n",
       "      <td>RNGC3</td>\n",
       "      <td>Natural Gas Futures Contract 3 (Dollars per Mi...</td>\n",
       "      <td>2.817</td>\n",
       "      <td>$/MMBTU</td>\n",
       "    </tr>\n",
       "    <tr>\n",
       "      <th>144</th>\n",
       "      <td>1996-12</td>\n",
       "      <td>Y35NY</td>\n",
       "      <td>NEW YORK CITY</td>\n",
       "      <td>EPG0</td>\n",
       "      <td>Natural Gas</td>\n",
       "      <td>PE1</td>\n",
       "      <td>Future Contract 1</td>\n",
       "      <td>RNGC1</td>\n",
       "      <td>Natural Gas Futures Contract 1 (Dollars per Mi...</td>\n",
       "      <td>3.645</td>\n",
       "      <td>$/MMBTU</td>\n",
       "    </tr>\n",
       "    <tr>\n",
       "      <th>145</th>\n",
       "      <td>1997-01</td>\n",
       "      <td>Y35NY</td>\n",
       "      <td>NEW YORK CITY</td>\n",
       "      <td>EPG0</td>\n",
       "      <td>Natural Gas</td>\n",
       "      <td>PE1</td>\n",
       "      <td>Future Contract 1</td>\n",
       "      <td>RNGC1</td>\n",
       "      <td>Natural Gas Futures Contract 1 (Dollars per Mi...</td>\n",
       "      <td>3.067</td>\n",
       "      <td>$/MMBTU</td>\n",
       "    </tr>\n",
       "    <tr>\n",
       "      <th>146</th>\n",
       "      <td>1997-01</td>\n",
       "      <td>Y35NY</td>\n",
       "      <td>NEW YORK CITY</td>\n",
       "      <td>EPG0</td>\n",
       "      <td>Natural Gas</td>\n",
       "      <td>PE3</td>\n",
       "      <td>Future Contract 3</td>\n",
       "      <td>RNGC3</td>\n",
       "      <td>Natural Gas Futures Contract 3 (Dollars per Mi...</td>\n",
       "      <td>2.393</td>\n",
       "      <td>$/MMBTU</td>\n",
       "    </tr>\n",
       "    <tr>\n",
       "      <th>147</th>\n",
       "      <td>1997-01</td>\n",
       "      <td>Y35NY</td>\n",
       "      <td>NEW YORK CITY</td>\n",
       "      <td>EPG0</td>\n",
       "      <td>Natural Gas</td>\n",
       "      <td>PE4</td>\n",
       "      <td>Future Contract 4</td>\n",
       "      <td>RNGC4</td>\n",
       "      <td>Natural Gas Futures Contract 4 (Dollars per Mi...</td>\n",
       "      <td>2.227</td>\n",
       "      <td>$/MMBTU</td>\n",
       "    </tr>\n",
       "    <tr>\n",
       "      <th>148</th>\n",
       "      <td>1997-01</td>\n",
       "      <td>Y35NY</td>\n",
       "      <td>NEW YORK CITY</td>\n",
       "      <td>EPG0</td>\n",
       "      <td>Natural Gas</td>\n",
       "      <td>PE2</td>\n",
       "      <td>Future Contract 2</td>\n",
       "      <td>RNGC2</td>\n",
       "      <td>Natural Gas Futures Contract 2 (Dollars per Mi...</td>\n",
       "      <td>2.729</td>\n",
       "      <td>$/MMBTU</td>\n",
       "    </tr>\n",
       "    <tr>\n",
       "      <th>149</th>\n",
       "      <td>1997-01</td>\n",
       "      <td>RGC</td>\n",
       "      <td>NA</td>\n",
       "      <td>EPG0</td>\n",
       "      <td>Natural Gas</td>\n",
       "      <td>PS0</td>\n",
       "      <td>Spot Price</td>\n",
       "      <td>RNGWHHD</td>\n",
       "      <td>Henry Hub Natural Gas Spot Price (Dollars per ...</td>\n",
       "      <td>3.450</td>\n",
       "      <td>$/MMBTU</td>\n",
       "    </tr>\n",
       "  </tbody>\n",
       "</table>\n",
       "</div>"
      ],
      "text/plain": [
       "      period duoarea      area-name product product-name process  \\\n",
       "143  1996-12   Y35NY  NEW YORK CITY    EPG0  Natural Gas     PE3   \n",
       "144  1996-12   Y35NY  NEW YORK CITY    EPG0  Natural Gas     PE1   \n",
       "145  1997-01   Y35NY  NEW YORK CITY    EPG0  Natural Gas     PE1   \n",
       "146  1997-01   Y35NY  NEW YORK CITY    EPG0  Natural Gas     PE3   \n",
       "147  1997-01   Y35NY  NEW YORK CITY    EPG0  Natural Gas     PE4   \n",
       "148  1997-01   Y35NY  NEW YORK CITY    EPG0  Natural Gas     PE2   \n",
       "149  1997-01     RGC             NA    EPG0  Natural Gas     PS0   \n",
       "\n",
       "          process-name   series  \\\n",
       "143  Future Contract 3    RNGC3   \n",
       "144  Future Contract 1    RNGC1   \n",
       "145  Future Contract 1    RNGC1   \n",
       "146  Future Contract 3    RNGC3   \n",
       "147  Future Contract 4    RNGC4   \n",
       "148  Future Contract 2    RNGC2   \n",
       "149         Spot Price  RNGWHHD   \n",
       "\n",
       "                                    series-description  value    units  \n",
       "143  Natural Gas Futures Contract 3 (Dollars per Mi...  2.817  $/MMBTU  \n",
       "144  Natural Gas Futures Contract 1 (Dollars per Mi...  3.645  $/MMBTU  \n",
       "145  Natural Gas Futures Contract 1 (Dollars per Mi...  3.067  $/MMBTU  \n",
       "146  Natural Gas Futures Contract 3 (Dollars per Mi...  2.393  $/MMBTU  \n",
       "147  Natural Gas Futures Contract 4 (Dollars per Mi...  2.227  $/MMBTU  \n",
       "148  Natural Gas Futures Contract 2 (Dollars per Mi...  2.729  $/MMBTU  \n",
       "149  Henry Hub Natural Gas Spot Price (Dollars per ...  3.450  $/MMBTU  "
      ]
     },
     "execution_count": 278,
     "metadata": {},
     "output_type": "execute_result"
    }
   ],
   "source": [
    "df_NGasPrice.iloc[(149-6):].head(7)"
   ]
  },
  {
   "cell_type": "code",
   "execution_count": 279,
   "id": "aa2306c9-1ece-43b6-8202-15de688028f2",
   "metadata": {},
   "outputs": [],
   "source": [
    "df_NGasPrice = df_NGasPrice.iloc[145:].copy()"
   ]
  },
  {
   "cell_type": "code",
   "execution_count": 280,
   "id": "b9523070-d842-423f-b249-44c9be0206eb",
   "metadata": {},
   "outputs": [],
   "source": [
    "series_ngas_price = {\n",
    "    'RNGC2':'NYMEX_NG_FUT2_MMBTU', \n",
    "    'RNGC1':'NYMEX_NG_FUT1_MMBTU',\n",
    "    'RNGC3':'NYMEX_NG_FUT3_MMBTU',\n",
    "    'RNGC4':'NYMEX_NG_FUT4_MMBTU',\n",
    "    'RNGWHHD':'HH_NG_SPOT_MMBTU'\n",
    "}"
   ]
  },
  {
   "cell_type": "code",
   "execution_count": 281,
   "id": "9036465f-5d20-40ec-99c4-809bb38095fc",
   "metadata": {},
   "outputs": [],
   "source": [
    "df_NGasPrice['prod'] = df_NGasPrice['series'].map(series_ngas_price)"
   ]
  },
  {
   "cell_type": "code",
   "execution_count": 282,
   "id": "9ec5d2b9-912b-4ce9-8765-281a715a1177",
   "metadata": {},
   "outputs": [],
   "source": [
    "df_NGasPrice['periodDate'] = df_NGasPrice['period'].apply(lambda x : dt.date.fromisoformat(x+'-01'))"
   ]
  },
  {
   "cell_type": "code",
   "execution_count": 283,
   "id": "bd03bcff-49f2-4dd8-a60e-38fb1ee0d129",
   "metadata": {},
   "outputs": [
    {
     "data": {
      "text/html": [
       "<div>\n",
       "<style scoped>\n",
       "    .dataframe tbody tr th:only-of-type {\n",
       "        vertical-align: middle;\n",
       "    }\n",
       "\n",
       "    .dataframe tbody tr th {\n",
       "        vertical-align: top;\n",
       "    }\n",
       "\n",
       "    .dataframe thead th {\n",
       "        text-align: right;\n",
       "    }\n",
       "</style>\n",
       "<table border=\"1\" class=\"dataframe\">\n",
       "  <thead>\n",
       "    <tr style=\"text-align: right;\">\n",
       "      <th></th>\n",
       "      <th>period</th>\n",
       "      <th>duoarea</th>\n",
       "      <th>area-name</th>\n",
       "      <th>product</th>\n",
       "      <th>product-name</th>\n",
       "      <th>process</th>\n",
       "      <th>process-name</th>\n",
       "      <th>series</th>\n",
       "      <th>series-description</th>\n",
       "      <th>value</th>\n",
       "      <th>units</th>\n",
       "      <th>prod</th>\n",
       "      <th>periodDate</th>\n",
       "    </tr>\n",
       "  </thead>\n",
       "  <tbody>\n",
       "    <tr>\n",
       "      <th>1700</th>\n",
       "      <td>2022-12</td>\n",
       "      <td>Y35NY</td>\n",
       "      <td>NEW YORK CITY</td>\n",
       "      <td>EPG0</td>\n",
       "      <td>Natural Gas</td>\n",
       "      <td>PE1</td>\n",
       "      <td>Future Contract 1</td>\n",
       "      <td>RNGC1</td>\n",
       "      <td>Natural Gas Futures Contract 1 (Dollars per Mi...</td>\n",
       "      <td>5.77</td>\n",
       "      <td>$/MMBTU</td>\n",
       "      <td>NYMEX_NG_FUT1_MMBTU</td>\n",
       "      <td>2022-12-01</td>\n",
       "    </tr>\n",
       "    <tr>\n",
       "      <th>1701</th>\n",
       "      <td>2022-12</td>\n",
       "      <td>Y35NY</td>\n",
       "      <td>NEW YORK CITY</td>\n",
       "      <td>EPG0</td>\n",
       "      <td>Natural Gas</td>\n",
       "      <td>PE2</td>\n",
       "      <td>Future Contract 2</td>\n",
       "      <td>RNGC2</td>\n",
       "      <td>Natural Gas Futures Contract 2 (Dollars per Mi...</td>\n",
       "      <td>5.60</td>\n",
       "      <td>$/MMBTU</td>\n",
       "      <td>NYMEX_NG_FUT2_MMBTU</td>\n",
       "      <td>2022-12-01</td>\n",
       "    </tr>\n",
       "    <tr>\n",
       "      <th>1702</th>\n",
       "      <td>2022-12</td>\n",
       "      <td>Y35NY</td>\n",
       "      <td>NEW YORK CITY</td>\n",
       "      <td>EPG0</td>\n",
       "      <td>Natural Gas</td>\n",
       "      <td>PE3</td>\n",
       "      <td>Future Contract 3</td>\n",
       "      <td>RNGC3</td>\n",
       "      <td>Natural Gas Futures Contract 3 (Dollars per Mi...</td>\n",
       "      <td>5.09</td>\n",
       "      <td>$/MMBTU</td>\n",
       "      <td>NYMEX_NG_FUT3_MMBTU</td>\n",
       "      <td>2022-12-01</td>\n",
       "    </tr>\n",
       "    <tr>\n",
       "      <th>1703</th>\n",
       "      <td>2022-12</td>\n",
       "      <td>RGC</td>\n",
       "      <td>NA</td>\n",
       "      <td>EPG0</td>\n",
       "      <td>Natural Gas</td>\n",
       "      <td>PS0</td>\n",
       "      <td>Spot Price</td>\n",
       "      <td>RNGWHHD</td>\n",
       "      <td>Henry Hub Natural Gas Spot Price (Dollars per ...</td>\n",
       "      <td>5.53</td>\n",
       "      <td>$/MMBTU</td>\n",
       "      <td>HH_NG_SPOT_MMBTU</td>\n",
       "      <td>2022-12-01</td>\n",
       "    </tr>\n",
       "    <tr>\n",
       "      <th>1704</th>\n",
       "      <td>2022-12</td>\n",
       "      <td>Y35NY</td>\n",
       "      <td>NEW YORK CITY</td>\n",
       "      <td>EPG0</td>\n",
       "      <td>Natural Gas</td>\n",
       "      <td>PE4</td>\n",
       "      <td>Future Contract 4</td>\n",
       "      <td>RNGC4</td>\n",
       "      <td>Natural Gas Futures Contract 4 (Dollars per Mi...</td>\n",
       "      <td>4.67</td>\n",
       "      <td>$/MMBTU</td>\n",
       "      <td>NYMEX_NG_FUT4_MMBTU</td>\n",
       "      <td>2022-12-01</td>\n",
       "    </tr>\n",
       "  </tbody>\n",
       "</table>\n",
       "</div>"
      ],
      "text/plain": [
       "       period duoarea      area-name product product-name process  \\\n",
       "1700  2022-12   Y35NY  NEW YORK CITY    EPG0  Natural Gas     PE1   \n",
       "1701  2022-12   Y35NY  NEW YORK CITY    EPG0  Natural Gas     PE2   \n",
       "1702  2022-12   Y35NY  NEW YORK CITY    EPG0  Natural Gas     PE3   \n",
       "1703  2022-12     RGC             NA    EPG0  Natural Gas     PS0   \n",
       "1704  2022-12   Y35NY  NEW YORK CITY    EPG0  Natural Gas     PE4   \n",
       "\n",
       "           process-name   series  \\\n",
       "1700  Future Contract 1    RNGC1   \n",
       "1701  Future Contract 2    RNGC2   \n",
       "1702  Future Contract 3    RNGC3   \n",
       "1703         Spot Price  RNGWHHD   \n",
       "1704  Future Contract 4    RNGC4   \n",
       "\n",
       "                                     series-description  value    units  \\\n",
       "1700  Natural Gas Futures Contract 1 (Dollars per Mi...   5.77  $/MMBTU   \n",
       "1701  Natural Gas Futures Contract 2 (Dollars per Mi...   5.60  $/MMBTU   \n",
       "1702  Natural Gas Futures Contract 3 (Dollars per Mi...   5.09  $/MMBTU   \n",
       "1703  Henry Hub Natural Gas Spot Price (Dollars per ...   5.53  $/MMBTU   \n",
       "1704  Natural Gas Futures Contract 4 (Dollars per Mi...   4.67  $/MMBTU   \n",
       "\n",
       "                     prod  periodDate  \n",
       "1700  NYMEX_NG_FUT1_MMBTU  2022-12-01  \n",
       "1701  NYMEX_NG_FUT2_MMBTU  2022-12-01  \n",
       "1702  NYMEX_NG_FUT3_MMBTU  2022-12-01  \n",
       "1703     HH_NG_SPOT_MMBTU  2022-12-01  \n",
       "1704  NYMEX_NG_FUT4_MMBTU  2022-12-01  "
      ]
     },
     "execution_count": 283,
     "metadata": {},
     "output_type": "execute_result"
    }
   ],
   "source": [
    "df_NGasPrice[df_NGasPrice['period']=='2022-12']"
   ]
  },
  {
   "cell_type": "code",
   "execution_count": 286,
   "id": "a9a00364-e789-4ac6-b31a-4d0cec304fb1",
   "metadata": {},
   "outputs": [
    {
     "data": {
      "text/plain": [
       "5"
      ]
     },
     "execution_count": 286,
     "metadata": {},
     "output_type": "execute_result"
    }
   ],
   "source": [
    "df_NGasPrice[df_NGasPrice['period']=='2022-12'].to_sql('MetaNGasPrice', con=engine, if_exists='replace', index=False)"
   ]
  },
  {
   "cell_type": "code",
   "execution_count": 287,
   "id": "3c9e4f7e-e4c4-4f22-a6a8-fafdb0b9bfd7",
   "metadata": {},
   "outputs": [],
   "source": [
    "df_NGasPrice_trab = df_NGasPrice.pivot(index='periodDate', values = 'value', columns = 'prod')"
   ]
  },
  {
   "cell_type": "code",
   "execution_count": 288,
   "id": "1c07792b-fada-453b-a078-0ee7418a3ad5",
   "metadata": {},
   "outputs": [
    {
     "data": {
      "text/html": [
       "<div>\n",
       "<style scoped>\n",
       "    .dataframe tbody tr th:only-of-type {\n",
       "        vertical-align: middle;\n",
       "    }\n",
       "\n",
       "    .dataframe tbody tr th {\n",
       "        vertical-align: top;\n",
       "    }\n",
       "\n",
       "    .dataframe thead th {\n",
       "        text-align: right;\n",
       "    }\n",
       "</style>\n",
       "<table border=\"1\" class=\"dataframe\">\n",
       "  <thead>\n",
       "    <tr style=\"text-align: right;\">\n",
       "      <th>prod</th>\n",
       "      <th>HH_NG_SPOT_MMBTU</th>\n",
       "      <th>NYMEX_NG_FUT1_MMBTU</th>\n",
       "      <th>NYMEX_NG_FUT2_MMBTU</th>\n",
       "      <th>NYMEX_NG_FUT3_MMBTU</th>\n",
       "      <th>NYMEX_NG_FUT4_MMBTU</th>\n",
       "    </tr>\n",
       "    <tr>\n",
       "      <th>periodDate</th>\n",
       "      <th></th>\n",
       "      <th></th>\n",
       "      <th></th>\n",
       "      <th></th>\n",
       "      <th></th>\n",
       "    </tr>\n",
       "  </thead>\n",
       "  <tbody>\n",
       "    <tr>\n",
       "      <th>1997-01-01</th>\n",
       "      <td>3.45</td>\n",
       "      <td>3.067</td>\n",
       "      <td>2.729</td>\n",
       "      <td>2.393</td>\n",
       "      <td>2.227</td>\n",
       "    </tr>\n",
       "    <tr>\n",
       "      <th>1997-02-01</th>\n",
       "      <td>2.15</td>\n",
       "      <td>2.065</td>\n",
       "      <td>2.016</td>\n",
       "      <td>1.995</td>\n",
       "      <td>1.999</td>\n",
       "    </tr>\n",
       "  </tbody>\n",
       "</table>\n",
       "</div>"
      ],
      "text/plain": [
       "prod        HH_NG_SPOT_MMBTU  NYMEX_NG_FUT1_MMBTU  NYMEX_NG_FUT2_MMBTU  \\\n",
       "periodDate                                                               \n",
       "1997-01-01              3.45                3.067                2.729   \n",
       "1997-02-01              2.15                2.065                2.016   \n",
       "\n",
       "prod        NYMEX_NG_FUT3_MMBTU  NYMEX_NG_FUT4_MMBTU  \n",
       "periodDate                                            \n",
       "1997-01-01                2.393                2.227  \n",
       "1997-02-01                1.995                1.999  "
      ]
     },
     "execution_count": 288,
     "metadata": {},
     "output_type": "execute_result"
    }
   ],
   "source": [
    "df_NGasPrice_trab.head(2)"
   ]
  },
  {
   "cell_type": "code",
   "execution_count": 289,
   "id": "08acc04b-f46b-44a6-ad57-514e6cbe1f0c",
   "metadata": {},
   "outputs": [
    {
     "data": {
      "text/html": [
       "<div>\n",
       "<style scoped>\n",
       "    .dataframe tbody tr th:only-of-type {\n",
       "        vertical-align: middle;\n",
       "    }\n",
       "\n",
       "    .dataframe tbody tr th {\n",
       "        vertical-align: top;\n",
       "    }\n",
       "\n",
       "    .dataframe thead th {\n",
       "        text-align: right;\n",
       "    }\n",
       "</style>\n",
       "<table border=\"1\" class=\"dataframe\">\n",
       "  <thead>\n",
       "    <tr style=\"text-align: right;\">\n",
       "      <th>prod</th>\n",
       "      <th>HH_NG_SPOT_MMBTU</th>\n",
       "      <th>NYMEX_NG_FUT1_MMBTU</th>\n",
       "      <th>NYMEX_NG_FUT2_MMBTU</th>\n",
       "      <th>NYMEX_NG_FUT3_MMBTU</th>\n",
       "      <th>NYMEX_NG_FUT4_MMBTU</th>\n",
       "    </tr>\n",
       "    <tr>\n",
       "      <th>periodDate</th>\n",
       "      <th></th>\n",
       "      <th></th>\n",
       "      <th></th>\n",
       "      <th></th>\n",
       "      <th></th>\n",
       "    </tr>\n",
       "  </thead>\n",
       "  <tbody>\n",
       "    <tr>\n",
       "      <th>2023-01-01</th>\n",
       "      <td>3.27</td>\n",
       "      <td>3.42</td>\n",
       "      <td>3.20</td>\n",
       "      <td>3.17</td>\n",
       "      <td>3.25</td>\n",
       "    </tr>\n",
       "    <tr>\n",
       "      <th>2023-02-01</th>\n",
       "      <td>2.38</td>\n",
       "      <td>2.44</td>\n",
       "      <td>2.53</td>\n",
       "      <td>2.68</td>\n",
       "      <td>2.87</td>\n",
       "    </tr>\n",
       "  </tbody>\n",
       "</table>\n",
       "</div>"
      ],
      "text/plain": [
       "prod        HH_NG_SPOT_MMBTU  NYMEX_NG_FUT1_MMBTU  NYMEX_NG_FUT2_MMBTU  \\\n",
       "periodDate                                                               \n",
       "2023-01-01              3.27                 3.42                 3.20   \n",
       "2023-02-01              2.38                 2.44                 2.53   \n",
       "\n",
       "prod        NYMEX_NG_FUT3_MMBTU  NYMEX_NG_FUT4_MMBTU  \n",
       "periodDate                                            \n",
       "2023-01-01                 3.17                 3.25  \n",
       "2023-02-01                 2.68                 2.87  "
      ]
     },
     "execution_count": 289,
     "metadata": {},
     "output_type": "execute_result"
    }
   ],
   "source": [
    "df_NGasPrice_trab.tail(2)"
   ]
  },
  {
   "cell_type": "code",
   "execution_count": 290,
   "id": "50217f5a-42cf-47f6-a8ca-017e8b4c8916",
   "metadata": {},
   "outputs": [
    {
     "data": {
      "text/html": [
       "<div>\n",
       "<style scoped>\n",
       "    .dataframe tbody tr th:only-of-type {\n",
       "        vertical-align: middle;\n",
       "    }\n",
       "\n",
       "    .dataframe tbody tr th {\n",
       "        vertical-align: top;\n",
       "    }\n",
       "\n",
       "    .dataframe thead th {\n",
       "        text-align: right;\n",
       "    }\n",
       "</style>\n",
       "<table border=\"1\" class=\"dataframe\">\n",
       "  <thead>\n",
       "    <tr style=\"text-align: right;\">\n",
       "      <th>prod</th>\n",
       "      <th>HH_NG_SPOT_MMBTU</th>\n",
       "      <th>NYMEX_NG_FUT1_MMBTU</th>\n",
       "      <th>NYMEX_NG_FUT2_MMBTU</th>\n",
       "      <th>NYMEX_NG_FUT3_MMBTU</th>\n",
       "      <th>NYMEX_NG_FUT4_MMBTU</th>\n",
       "    </tr>\n",
       "  </thead>\n",
       "  <tbody>\n",
       "    <tr>\n",
       "      <th>count</th>\n",
       "      <td>314.000000</td>\n",
       "      <td>314.000000</td>\n",
       "      <td>314.000000</td>\n",
       "      <td>314.000000</td>\n",
       "      <td>314.000000</td>\n",
       "    </tr>\n",
       "    <tr>\n",
       "      <th>mean</th>\n",
       "      <td>4.248694</td>\n",
       "      <td>4.295213</td>\n",
       "      <td>4.385191</td>\n",
       "      <td>4.453427</td>\n",
       "      <td>4.492115</td>\n",
       "    </tr>\n",
       "    <tr>\n",
       "      <th>std</th>\n",
       "      <td>2.163350</td>\n",
       "      <td>2.202880</td>\n",
       "      <td>2.247150</td>\n",
       "      <td>2.280323</td>\n",
       "      <td>2.279136</td>\n",
       "    </tr>\n",
       "    <tr>\n",
       "      <th>min</th>\n",
       "      <td>1.630000</td>\n",
       "      <td>1.700000</td>\n",
       "      <td>1.780000</td>\n",
       "      <td>1.820000</td>\n",
       "      <td>1.850000</td>\n",
       "    </tr>\n",
       "    <tr>\n",
       "      <th>25%</th>\n",
       "      <td>2.662500</td>\n",
       "      <td>2.702750</td>\n",
       "      <td>2.760000</td>\n",
       "      <td>2.803000</td>\n",
       "      <td>2.850000</td>\n",
       "    </tr>\n",
       "    <tr>\n",
       "      <th>50%</th>\n",
       "      <td>3.620000</td>\n",
       "      <td>3.621000</td>\n",
       "      <td>3.789500</td>\n",
       "      <td>3.846000</td>\n",
       "      <td>3.869500</td>\n",
       "    </tr>\n",
       "    <tr>\n",
       "      <th>75%</th>\n",
       "      <td>5.385000</td>\n",
       "      <td>5.361750</td>\n",
       "      <td>5.540750</td>\n",
       "      <td>5.451500</td>\n",
       "      <td>5.406250</td>\n",
       "    </tr>\n",
       "    <tr>\n",
       "      <th>max</th>\n",
       "      <td>13.420000</td>\n",
       "      <td>13.454000</td>\n",
       "      <td>13.827000</td>\n",
       "      <td>14.178000</td>\n",
       "      <td>14.010000</td>\n",
       "    </tr>\n",
       "  </tbody>\n",
       "</table>\n",
       "</div>"
      ],
      "text/plain": [
       "prod   HH_NG_SPOT_MMBTU  NYMEX_NG_FUT1_MMBTU  NYMEX_NG_FUT2_MMBTU  \\\n",
       "count        314.000000           314.000000           314.000000   \n",
       "mean           4.248694             4.295213             4.385191   \n",
       "std            2.163350             2.202880             2.247150   \n",
       "min            1.630000             1.700000             1.780000   \n",
       "25%            2.662500             2.702750             2.760000   \n",
       "50%            3.620000             3.621000             3.789500   \n",
       "75%            5.385000             5.361750             5.540750   \n",
       "max           13.420000            13.454000            13.827000   \n",
       "\n",
       "prod   NYMEX_NG_FUT3_MMBTU  NYMEX_NG_FUT4_MMBTU  \n",
       "count           314.000000           314.000000  \n",
       "mean              4.453427             4.492115  \n",
       "std               2.280323             2.279136  \n",
       "min               1.820000             1.850000  \n",
       "25%               2.803000             2.850000  \n",
       "50%               3.846000             3.869500  \n",
       "75%               5.451500             5.406250  \n",
       "max              14.178000            14.010000  "
      ]
     },
     "execution_count": 290,
     "metadata": {},
     "output_type": "execute_result"
    }
   ],
   "source": [
    "df_NGasPrice_trab.describe()"
   ]
  },
  {
   "cell_type": "code",
   "execution_count": 291,
   "id": "e312bacb-6992-4e88-afc9-2368f1dcd848",
   "metadata": {},
   "outputs": [],
   "source": [
    "df_NGasPrice_trab.reset_index(inplace=True)"
   ]
  },
  {
   "cell_type": "code",
   "execution_count": 292,
   "id": "a04267a8-5825-4abc-a375-7d292413989a",
   "metadata": {},
   "outputs": [
    {
     "data": {
      "text/plain": [
       "['periodDate',\n",
       " 'HH_NG_SPOT_MMBTU',\n",
       " 'NYMEX_NG_FUT1_MMBTU',\n",
       " 'NYMEX_NG_FUT2_MMBTU',\n",
       " 'NYMEX_NG_FUT3_MMBTU',\n",
       " 'NYMEX_NG_FUT4_MMBTU']"
      ]
     },
     "execution_count": 292,
     "metadata": {},
     "output_type": "execute_result"
    }
   ],
   "source": [
    "aux_NGasPrice =[i for i in df_NGasPrice_trab.columns]\n",
    "aux_NGasPrice"
   ]
  },
  {
   "cell_type": "code",
   "execution_count": 293,
   "id": "c4a3550d-9655-4b36-b044-0eea828c2044",
   "metadata": {},
   "outputs": [],
   "source": [
    "crear_NGasPrice = '''\n",
    "CREATE TABLE NGasPrice (\n",
    " {0} DATE,\n",
    " {1} DECIMAL(7,3),\n",
    " {2} DECIMAL(7,3),\n",
    " {3} DECIMAL(7,3),\n",
    " {4} DECIMAL(7,3),\n",
    " {5} DECIMAL(7,3),\n",
    " PRIMARY KEY({0})\n",
    ")ENGINE=InnoDB DEFAULT CHARSET=utf8mb4 COLLATE=utf8mb4_unicode_ci;\n",
    "'''"
   ]
  },
  {
   "cell_type": "code",
   "execution_count": 294,
   "id": "4b3f6ed1-4249-4d40-87fa-7a22677eaeb9",
   "metadata": {},
   "outputs": [],
   "source": [
    "with engine.connect() as conn:\n",
    "    sql = text('DROP TABLE IF EXISTS {}'.format('NGasPrice'))\n",
    "    conn.execute(sql)\n",
    "    sql2 = text(crear_NGasPrice.format(*aux_NGasPrice))\n",
    "    conn.execute(sql2)"
   ]
  },
  {
   "cell_type": "code",
   "execution_count": 295,
   "id": "142b50ba-83e0-4cce-bdf5-8f8551cd4a0d",
   "metadata": {},
   "outputs": [
    {
     "data": {
      "text/plain": [
       "314"
      ]
     },
     "execution_count": 295,
     "metadata": {},
     "output_type": "execute_result"
    }
   ],
   "source": [
    "df_NGasPrice_trab.to_sql('NGasPrice', engine, index=False, if_exists='append')"
   ]
  },
  {
   "cell_type": "markdown",
   "id": "6234853c-d1f9-4eb2-8652-e083a7a73ec7",
   "metadata": {},
   "source": [
    "## NGasStorage & MetaNGasStorage"
   ]
  },
  {
   "cell_type": "code",
   "execution_count": 180,
   "id": "49ee4e4e-cdff-4efa-b691-7d40ed1329ff",
   "metadata": {},
   "outputs": [],
   "source": [
    "url_NGasStorage = 'https://api.eia.gov/v2/natural-gas/stor/sum/data/?frequency=monthly&data[0]=value&facets[process][]=SAT&facets[series][]=NGM_EPG0_SAT_R48_MMCF&start={0}&end={1}&sort[0][column]=period&sort[0][direction]=asc&offset=0&length=5000'+'&api_key={2}'"
   ]
  },
  {
   "cell_type": "code",
   "execution_count": 181,
   "id": "7b0599cc-aa9b-43a7-9c9d-21f1686736b3",
   "metadata": {},
   "outputs": [
    {
     "data": {
      "text/plain": [
       "200"
      ]
     },
     "execution_count": 181,
     "metadata": {},
     "output_type": "execute_result"
    }
   ],
   "source": [
    "NGasStorage_qry = requests.get(url_NGasStorage.format('1997-01','2023-03', api_key))\n",
    "NGasStorage_qry.status_code"
   ]
  },
  {
   "cell_type": "code",
   "execution_count": 182,
   "id": "4b49072d-96b4-4932-862e-59fb2acbed6b",
   "metadata": {},
   "outputs": [
    {
     "data": {
      "text/plain": [
       "144"
      ]
     },
     "execution_count": 182,
     "metadata": {},
     "output_type": "execute_result"
    }
   ],
   "source": [
    "NGasStorage_qry.json()['response']['total']"
   ]
  },
  {
   "cell_type": "code",
   "execution_count": 184,
   "id": "966a5780-9266-4391-abb2-4386d9e91843",
   "metadata": {},
   "outputs": [],
   "source": [
    "df_NGasStorage = pd.DataFrame(NGasStorage_qry.json()['response']['data'])"
   ]
  },
  {
   "cell_type": "code",
   "execution_count": 189,
   "id": "934f3c09-8c84-4323-8143-f5f1769d5912",
   "metadata": {},
   "outputs": [
    {
     "data": {
      "text/html": [
       "<div>\n",
       "<style scoped>\n",
       "    .dataframe tbody tr th:only-of-type {\n",
       "        vertical-align: middle;\n",
       "    }\n",
       "\n",
       "    .dataframe tbody tr th {\n",
       "        vertical-align: top;\n",
       "    }\n",
       "\n",
       "    .dataframe thead th {\n",
       "        text-align: right;\n",
       "    }\n",
       "</style>\n",
       "<table border=\"1\" class=\"dataframe\">\n",
       "  <thead>\n",
       "    <tr style=\"text-align: right;\">\n",
       "      <th></th>\n",
       "      <th>period</th>\n",
       "      <th>duoarea</th>\n",
       "      <th>area-name</th>\n",
       "      <th>product</th>\n",
       "      <th>product-name</th>\n",
       "      <th>process</th>\n",
       "      <th>process-name</th>\n",
       "      <th>series</th>\n",
       "      <th>series-description</th>\n",
       "      <th>value</th>\n",
       "      <th>units</th>\n",
       "    </tr>\n",
       "  </thead>\n",
       "  <tbody>\n",
       "    <tr>\n",
       "      <th>0</th>\n",
       "      <td>2011-01</td>\n",
       "      <td>R48</td>\n",
       "      <td>NA</td>\n",
       "      <td>EPG0</td>\n",
       "      <td>Natural Gas</td>\n",
       "      <td>SAT</td>\n",
       "      <td>Total Underground Storage</td>\n",
       "      <td>NGM_EPG0_SAT_R48_MMCF</td>\n",
       "      <td>Lower 48 States Natural Gas Underground Storag...</td>\n",
       "      <td>6608635</td>\n",
       "      <td>MMCF</td>\n",
       "    </tr>\n",
       "    <tr>\n",
       "      <th>1</th>\n",
       "      <td>2011-02</td>\n",
       "      <td>R48</td>\n",
       "      <td>NA</td>\n",
       "      <td>EPG0</td>\n",
       "      <td>Natural Gas</td>\n",
       "      <td>SAT</td>\n",
       "      <td>Total Underground Storage</td>\n",
       "      <td>NGM_EPG0_SAT_R48_MMCF</td>\n",
       "      <td>Lower 48 States Natural Gas Underground Storag...</td>\n",
       "      <td>6024215</td>\n",
       "      <td>MMCF</td>\n",
       "    </tr>\n",
       "  </tbody>\n",
       "</table>\n",
       "</div>"
      ],
      "text/plain": [
       "    period duoarea area-name product product-name process  \\\n",
       "0  2011-01     R48        NA    EPG0  Natural Gas     SAT   \n",
       "1  2011-02     R48        NA    EPG0  Natural Gas     SAT   \n",
       "\n",
       "                process-name                 series  \\\n",
       "0  Total Underground Storage  NGM_EPG0_SAT_R48_MMCF   \n",
       "1  Total Underground Storage  NGM_EPG0_SAT_R48_MMCF   \n",
       "\n",
       "                                  series-description    value units  \n",
       "0  Lower 48 States Natural Gas Underground Storag...  6608635  MMCF  \n",
       "1  Lower 48 States Natural Gas Underground Storag...  6024215  MMCF  "
      ]
     },
     "execution_count": 189,
     "metadata": {},
     "output_type": "execute_result"
    }
   ],
   "source": [
    "df_NGasStorage.head(2)"
   ]
  },
  {
   "cell_type": "code",
   "execution_count": 191,
   "id": "8c084200-a678-43c2-bde9-2d0a3043b16e",
   "metadata": {},
   "outputs": [],
   "source": [
    "df_NGasStorage['periodDate'] = df_NGasStorage['period'].apply(lambda x: dt.date.fromisoformat(x+'-01'))"
   ]
  },
  {
   "cell_type": "code",
   "execution_count": 193,
   "id": "7f45c045-ba4c-4317-9f3e-ed992eb8d0bb",
   "metadata": {},
   "outputs": [],
   "source": [
    "#this is just for the meta: \n",
    "df_NGasStorage['value_renaming'] = 'LOWER48_NATGAS_STORAGE_MMCF'"
   ]
  },
  {
   "cell_type": "code",
   "execution_count": 197,
   "id": "10e41b75-eae4-4906-aa5d-32280967f199",
   "metadata": {},
   "outputs": [
    {
     "data": {
      "text/html": [
       "<div>\n",
       "<style scoped>\n",
       "    .dataframe tbody tr th:only-of-type {\n",
       "        vertical-align: middle;\n",
       "    }\n",
       "\n",
       "    .dataframe tbody tr th {\n",
       "        vertical-align: top;\n",
       "    }\n",
       "\n",
       "    .dataframe thead th {\n",
       "        text-align: right;\n",
       "    }\n",
       "</style>\n",
       "<table border=\"1\" class=\"dataframe\">\n",
       "  <thead>\n",
       "    <tr style=\"text-align: right;\">\n",
       "      <th></th>\n",
       "      <th>period</th>\n",
       "      <th>duoarea</th>\n",
       "      <th>area-name</th>\n",
       "      <th>product</th>\n",
       "      <th>product-name</th>\n",
       "      <th>process</th>\n",
       "      <th>process-name</th>\n",
       "      <th>series</th>\n",
       "      <th>series-description</th>\n",
       "      <th>value</th>\n",
       "      <th>units</th>\n",
       "      <th>periodDate</th>\n",
       "      <th>value_renaming</th>\n",
       "    </tr>\n",
       "  </thead>\n",
       "  <tbody>\n",
       "    <tr>\n",
       "      <th>0</th>\n",
       "      <td>2011-01</td>\n",
       "      <td>R48</td>\n",
       "      <td>NA</td>\n",
       "      <td>EPG0</td>\n",
       "      <td>Natural Gas</td>\n",
       "      <td>SAT</td>\n",
       "      <td>Total Underground Storage</td>\n",
       "      <td>NGM_EPG0_SAT_R48_MMCF</td>\n",
       "      <td>Lower 48 States Natural Gas Underground Storag...</td>\n",
       "      <td>6608635</td>\n",
       "      <td>MMCF</td>\n",
       "      <td>2011-01-01</td>\n",
       "      <td>LOWER48_NATGAS_STORAGE_MMCF</td>\n",
       "    </tr>\n",
       "  </tbody>\n",
       "</table>\n",
       "</div>"
      ],
      "text/plain": [
       "    period duoarea area-name product product-name process  \\\n",
       "0  2011-01     R48        NA    EPG0  Natural Gas     SAT   \n",
       "\n",
       "                process-name                 series  \\\n",
       "0  Total Underground Storage  NGM_EPG0_SAT_R48_MMCF   \n",
       "\n",
       "                                  series-description    value units  \\\n",
       "0  Lower 48 States Natural Gas Underground Storag...  6608635  MMCF   \n",
       "\n",
       "   periodDate               value_renaming  \n",
       "0  2011-01-01  LOWER48_NATGAS_STORAGE_MMCF  "
      ]
     },
     "execution_count": 197,
     "metadata": {},
     "output_type": "execute_result"
    }
   ],
   "source": [
    "df_NGasStorage.head(1).to_sql('MetaNGasStorage', con=engine, if_exists='replace', index=False)\n",
    "df_NGasStorage.head(1)"
   ]
  },
  {
   "cell_type": "code",
   "execution_count": 209,
   "id": "49f47dc4-46cf-461c-a1ab-4b8a7df64f48",
   "metadata": {},
   "outputs": [],
   "source": [
    "df_NGasStorage_trab = df_NGasStorage[['periodDate','value']].copy()"
   ]
  },
  {
   "cell_type": "code",
   "execution_count": 210,
   "id": "2a0b6bfb-8848-4e94-a06c-7a0d23a42807",
   "metadata": {},
   "outputs": [],
   "source": [
    "df_NGasStorage_trab.rename(columns={'value':'LOWER48_NATGAS_STORAGE_MMCF'}, inplace=True)"
   ]
  },
  {
   "cell_type": "code",
   "execution_count": null,
   "id": "31408c7c-b334-4a35-86f2-98b2aa6ae1a7",
   "metadata": {},
   "outputs": [],
   "source": [
    "df_NGasStorage_trab."
   ]
  },
  {
   "cell_type": "code",
   "execution_count": 211,
   "id": "ad4820d9-6742-4c42-8704-93d34313f59e",
   "metadata": {
    "tags": []
   },
   "outputs": [
    {
     "data": {
      "text/html": [
       "<div>\n",
       "<style scoped>\n",
       "    .dataframe tbody tr th:only-of-type {\n",
       "        vertical-align: middle;\n",
       "    }\n",
       "\n",
       "    .dataframe tbody tr th {\n",
       "        vertical-align: top;\n",
       "    }\n",
       "\n",
       "    .dataframe thead th {\n",
       "        text-align: right;\n",
       "    }\n",
       "</style>\n",
       "<table border=\"1\" class=\"dataframe\">\n",
       "  <thead>\n",
       "    <tr style=\"text-align: right;\">\n",
       "      <th></th>\n",
       "      <th>periodDate</th>\n",
       "      <th>LOWER48_NATGAS_STORAGE_MMCF</th>\n",
       "    </tr>\n",
       "  </thead>\n",
       "  <tbody>\n",
       "    <tr>\n",
       "      <th>0</th>\n",
       "      <td>2011-01-01</td>\n",
       "      <td>6608635</td>\n",
       "    </tr>\n",
       "    <tr>\n",
       "      <th>1</th>\n",
       "      <td>2011-02-01</td>\n",
       "      <td>6024215</td>\n",
       "    </tr>\n",
       "  </tbody>\n",
       "</table>\n",
       "</div>"
      ],
      "text/plain": [
       "   periodDate  LOWER48_NATGAS_STORAGE_MMCF\n",
       "0  2011-01-01                      6608635\n",
       "1  2011-02-01                      6024215"
      ]
     },
     "execution_count": 211,
     "metadata": {},
     "output_type": "execute_result"
    }
   ],
   "source": [
    "df_NGasStorage_trab.head(2)"
   ]
  },
  {
   "cell_type": "code",
   "execution_count": 212,
   "id": "b4d0ded0-6d6a-4c6a-9920-0af65794ac4a",
   "metadata": {},
   "outputs": [
    {
     "data": {
      "text/html": [
       "<div>\n",
       "<style scoped>\n",
       "    .dataframe tbody tr th:only-of-type {\n",
       "        vertical-align: middle;\n",
       "    }\n",
       "\n",
       "    .dataframe tbody tr th {\n",
       "        vertical-align: top;\n",
       "    }\n",
       "\n",
       "    .dataframe thead th {\n",
       "        text-align: right;\n",
       "    }\n",
       "</style>\n",
       "<table border=\"1\" class=\"dataframe\">\n",
       "  <thead>\n",
       "    <tr style=\"text-align: right;\">\n",
       "      <th></th>\n",
       "      <th>LOWER48_NATGAS_STORAGE_MMCF</th>\n",
       "    </tr>\n",
       "  </thead>\n",
       "  <tbody>\n",
       "    <tr>\n",
       "      <th>count</th>\n",
       "      <td>1.440000e+02</td>\n",
       "    </tr>\n",
       "    <tr>\n",
       "      <th>mean</th>\n",
       "      <td>7.079872e+06</td>\n",
       "    </tr>\n",
       "    <tr>\n",
       "      <th>std</th>\n",
       "      <td>7.632040e+05</td>\n",
       "    </tr>\n",
       "    <tr>\n",
       "      <th>min</th>\n",
       "      <td>5.172535e+06</td>\n",
       "    </tr>\n",
       "    <tr>\n",
       "      <th>25%</th>\n",
       "      <td>6.499054e+06</td>\n",
       "    </tr>\n",
       "    <tr>\n",
       "      <th>50%</th>\n",
       "      <td>7.118624e+06</td>\n",
       "    </tr>\n",
       "    <tr>\n",
       "      <th>75%</th>\n",
       "      <td>7.702902e+06</td>\n",
       "    </tr>\n",
       "    <tr>\n",
       "      <th>max</th>\n",
       "      <td>8.334627e+06</td>\n",
       "    </tr>\n",
       "  </tbody>\n",
       "</table>\n",
       "</div>"
      ],
      "text/plain": [
       "       LOWER48_NATGAS_STORAGE_MMCF\n",
       "count                 1.440000e+02\n",
       "mean                  7.079872e+06\n",
       "std                   7.632040e+05\n",
       "min                   5.172535e+06\n",
       "25%                   6.499054e+06\n",
       "50%                   7.118624e+06\n",
       "75%                   7.702902e+06\n",
       "max                   8.334627e+06"
      ]
     },
     "execution_count": 212,
     "metadata": {},
     "output_type": "execute_result"
    }
   ],
   "source": [
    "df_NGasStorage_trab.describe()"
   ]
  },
  {
   "cell_type": "code",
   "execution_count": 205,
   "id": "4803e0b6-8abc-4970-8739-4e77da670d34",
   "metadata": {},
   "outputs": [],
   "source": [
    "crear_NGasStorage = '''\n",
    "CREATE TABLE NGasStorage ( \n",
    "periodDate DATE NOT NULL, \n",
    "LOWER48_NATGAS_STORAGE_MMCF DECIMAL(9), \n",
    "PRIMARY KEY(periodDate))\n",
    "ENGINE=InnoDB DEFAULT CHARSET=utf8mb4 COLLATE=utf8mb4_unicode_ci;\n",
    "'''"
   ]
  },
  {
   "cell_type": "code",
   "execution_count": 206,
   "id": "e93f0980-b5ea-4cb3-966b-178ece26e8c7",
   "metadata": {},
   "outputs": [],
   "source": [
    "with engine.connect() as conn:\n",
    "    sql = text('DROP TABLE IF EXISTS {}'.format('NGasStorage'))\n",
    "    conn.execute(sql)\n",
    "    sql2 = text(crear_NGasStorage)\n",
    "    conn.execute(sql2)"
   ]
  },
  {
   "cell_type": "code",
   "execution_count": 213,
   "id": "34166569-4f91-4e21-a555-40edc8d4ce1d",
   "metadata": {},
   "outputs": [
    {
     "data": {
      "text/plain": [
       "144"
      ]
     },
     "execution_count": 213,
     "metadata": {},
     "output_type": "execute_result"
    }
   ],
   "source": [
    "df_NGasStorage_trab.to_sql('NGasStorage', engine, index=False, if_exists='append')"
   ]
  },
  {
   "cell_type": "markdown",
   "id": "dc5eec7e-f78c-489a-a5fe-6b2988eff1ba",
   "metadata": {},
   "source": [
    "## DryGasProd & MetaDryGasProd"
   ]
  },
  {
   "cell_type": "code",
   "execution_count": 214,
   "id": "81ea0398-f0cb-4d89-98bd-9a75e05ca5f0",
   "metadata": {},
   "outputs": [],
   "source": [
    "url_DryGasProd = 'https://api.eia.gov/v2/natural-gas/prod/sum/data/?frequency=monthly&data[0]=value&facets[process][]=FPD&facets[series][]=N9070US2&start={}&end={}&sort[0][column]=period&sort[0][direction]=asc&offset=0&length=5000'+'&api_key={}'"
   ]
  },
  {
   "cell_type": "code",
   "execution_count": 217,
   "id": "2910e67b-e7a8-4307-b792-d71871caecd4",
   "metadata": {},
   "outputs": [
    {
     "data": {
      "text/plain": [
       "200"
      ]
     },
     "execution_count": 217,
     "metadata": {},
     "output_type": "execute_result"
    }
   ],
   "source": [
    "DryGasProd_qry = requests.get(url_DryGasProd.format('1997-01','2023-03', api_key))\n",
    "DryGasProd_qry.status_code"
   ]
  },
  {
   "cell_type": "code",
   "execution_count": 218,
   "id": "f8fc5a4c-232b-426f-8e1f-797663da74bf",
   "metadata": {},
   "outputs": [],
   "source": [
    "df_DryGasProd = pd.DataFrame(DryGasProd_qry.json()['response']['data'])"
   ]
  },
  {
   "cell_type": "code",
   "execution_count": 221,
   "id": "ae0125ff-4ea4-4cf6-8566-688bc3b46e47",
   "metadata": {},
   "outputs": [
    {
     "data": {
      "text/html": [
       "<div>\n",
       "<style scoped>\n",
       "    .dataframe tbody tr th:only-of-type {\n",
       "        vertical-align: middle;\n",
       "    }\n",
       "\n",
       "    .dataframe tbody tr th {\n",
       "        vertical-align: top;\n",
       "    }\n",
       "\n",
       "    .dataframe thead th {\n",
       "        text-align: right;\n",
       "    }\n",
       "</style>\n",
       "<table border=\"1\" class=\"dataframe\">\n",
       "  <thead>\n",
       "    <tr style=\"text-align: right;\">\n",
       "      <th></th>\n",
       "      <th>period</th>\n",
       "      <th>duoarea</th>\n",
       "      <th>area-name</th>\n",
       "      <th>product</th>\n",
       "      <th>product-name</th>\n",
       "      <th>process</th>\n",
       "      <th>process-name</th>\n",
       "      <th>series</th>\n",
       "      <th>series-description</th>\n",
       "      <th>value</th>\n",
       "      <th>units</th>\n",
       "    </tr>\n",
       "  </thead>\n",
       "  <tbody>\n",
       "    <tr>\n",
       "      <th>38</th>\n",
       "      <td>2000-03</td>\n",
       "      <td>NUS</td>\n",
       "      <td>U.S.</td>\n",
       "      <td>EPG0</td>\n",
       "      <td>Natural Gas</td>\n",
       "      <td>FPD</td>\n",
       "      <td>Dry Production</td>\n",
       "      <td>N9070US2</td>\n",
       "      <td>U.S. Dry Natural Gas Production (MMcf)</td>\n",
       "      <td>1635707</td>\n",
       "      <td>MMCF</td>\n",
       "    </tr>\n",
       "    <tr>\n",
       "      <th>221</th>\n",
       "      <td>2015-06</td>\n",
       "      <td>NUS</td>\n",
       "      <td>U.S.</td>\n",
       "      <td>EPG0</td>\n",
       "      <td>Natural Gas</td>\n",
       "      <td>FPD</td>\n",
       "      <td>Dry Production</td>\n",
       "      <td>N9070US2</td>\n",
       "      <td>U.S. Dry Natural Gas Production (MMcf)</td>\n",
       "      <td>2218529</td>\n",
       "      <td>MMCF</td>\n",
       "    </tr>\n",
       "    <tr>\n",
       "      <th>136</th>\n",
       "      <td>2008-05</td>\n",
       "      <td>NUS</td>\n",
       "      <td>U.S.</td>\n",
       "      <td>EPG0</td>\n",
       "      <td>Natural Gas</td>\n",
       "      <td>FPD</td>\n",
       "      <td>Dry Production</td>\n",
       "      <td>N9070US2</td>\n",
       "      <td>U.S. Dry Natural Gas Production (MMcf)</td>\n",
       "      <td>1716720</td>\n",
       "      <td>MMCF</td>\n",
       "    </tr>\n",
       "    <tr>\n",
       "      <th>238</th>\n",
       "      <td>2016-11</td>\n",
       "      <td>NUS</td>\n",
       "      <td>U.S.</td>\n",
       "      <td>EPG0</td>\n",
       "      <td>Natural Gas</td>\n",
       "      <td>FPD</td>\n",
       "      <td>Dry Production</td>\n",
       "      <td>N9070US2</td>\n",
       "      <td>U.S. Dry Natural Gas Production (MMcf)</td>\n",
       "      <td>2160600</td>\n",
       "      <td>MMCF</td>\n",
       "    </tr>\n",
       "    <tr>\n",
       "      <th>74</th>\n",
       "      <td>2003-03</td>\n",
       "      <td>NUS</td>\n",
       "      <td>U.S.</td>\n",
       "      <td>EPG0</td>\n",
       "      <td>Natural Gas</td>\n",
       "      <td>FPD</td>\n",
       "      <td>Dry Production</td>\n",
       "      <td>N9070US2</td>\n",
       "      <td>U.S. Dry Natural Gas Production (MMcf)</td>\n",
       "      <td>1662980</td>\n",
       "      <td>MMCF</td>\n",
       "    </tr>\n",
       "  </tbody>\n",
       "</table>\n",
       "</div>"
      ],
      "text/plain": [
       "      period duoarea area-name product product-name process    process-name  \\\n",
       "38   2000-03     NUS      U.S.    EPG0  Natural Gas     FPD  Dry Production   \n",
       "221  2015-06     NUS      U.S.    EPG0  Natural Gas     FPD  Dry Production   \n",
       "136  2008-05     NUS      U.S.    EPG0  Natural Gas     FPD  Dry Production   \n",
       "238  2016-11     NUS      U.S.    EPG0  Natural Gas     FPD  Dry Production   \n",
       "74   2003-03     NUS      U.S.    EPG0  Natural Gas     FPD  Dry Production   \n",
       "\n",
       "       series                      series-description    value units  \n",
       "38   N9070US2  U.S. Dry Natural Gas Production (MMcf)  1635707  MMCF  \n",
       "221  N9070US2  U.S. Dry Natural Gas Production (MMcf)  2218529  MMCF  \n",
       "136  N9070US2  U.S. Dry Natural Gas Production (MMcf)  1716720  MMCF  \n",
       "238  N9070US2  U.S. Dry Natural Gas Production (MMcf)  2160600  MMCF  \n",
       "74   N9070US2  U.S. Dry Natural Gas Production (MMcf)  1662980  MMCF  "
      ]
     },
     "execution_count": 221,
     "metadata": {},
     "output_type": "execute_result"
    }
   ],
   "source": [
    "df_DryGasProd.sample(5)"
   ]
  },
  {
   "cell_type": "code",
   "execution_count": 222,
   "id": "c0f2359e-c73d-4263-bbd7-427ec6c019b1",
   "metadata": {},
   "outputs": [],
   "source": [
    "df_DryGasProd['periodDate'] = df_DryGasProd['period'].apply(lambda x: dt.date.fromisoformat(x+'-01'))"
   ]
  },
  {
   "cell_type": "code",
   "execution_count": 223,
   "id": "db72e35f-71f7-47f4-8512-8a27dbad5326",
   "metadata": {},
   "outputs": [],
   "source": [
    "#Again, this is just for the meta: \n",
    "df_DryGasProd['value_renaming'] = 'DRYNATGAS_PROD_MMCF'"
   ]
  },
  {
   "cell_type": "code",
   "execution_count": 224,
   "id": "2f7684c4-1bae-400b-887a-7137239ae8c8",
   "metadata": {},
   "outputs": [
    {
     "data": {
      "text/html": [
       "<div>\n",
       "<style scoped>\n",
       "    .dataframe tbody tr th:only-of-type {\n",
       "        vertical-align: middle;\n",
       "    }\n",
       "\n",
       "    .dataframe tbody tr th {\n",
       "        vertical-align: top;\n",
       "    }\n",
       "\n",
       "    .dataframe thead th {\n",
       "        text-align: right;\n",
       "    }\n",
       "</style>\n",
       "<table border=\"1\" class=\"dataframe\">\n",
       "  <thead>\n",
       "    <tr style=\"text-align: right;\">\n",
       "      <th></th>\n",
       "      <th>period</th>\n",
       "      <th>duoarea</th>\n",
       "      <th>area-name</th>\n",
       "      <th>product</th>\n",
       "      <th>product-name</th>\n",
       "      <th>process</th>\n",
       "      <th>process-name</th>\n",
       "      <th>series</th>\n",
       "      <th>series-description</th>\n",
       "      <th>value</th>\n",
       "      <th>units</th>\n",
       "      <th>periodDate</th>\n",
       "      <th>value_renaming</th>\n",
       "    </tr>\n",
       "  </thead>\n",
       "  <tbody>\n",
       "    <tr>\n",
       "      <th>0</th>\n",
       "      <td>1997-01</td>\n",
       "      <td>NUS</td>\n",
       "      <td>U.S.</td>\n",
       "      <td>EPG0</td>\n",
       "      <td>Natural Gas</td>\n",
       "      <td>FPD</td>\n",
       "      <td>Dry Production</td>\n",
       "      <td>N9070US2</td>\n",
       "      <td>U.S. Dry Natural Gas Production (MMcf)</td>\n",
       "      <td>1617923</td>\n",
       "      <td>MMCF</td>\n",
       "      <td>1997-01-01</td>\n",
       "      <td>DRYNATGAS_PROD_MMCF</td>\n",
       "    </tr>\n",
       "  </tbody>\n",
       "</table>\n",
       "</div>"
      ],
      "text/plain": [
       "    period duoarea area-name product product-name process    process-name  \\\n",
       "0  1997-01     NUS      U.S.    EPG0  Natural Gas     FPD  Dry Production   \n",
       "\n",
       "     series                      series-description    value units  \\\n",
       "0  N9070US2  U.S. Dry Natural Gas Production (MMcf)  1617923  MMCF   \n",
       "\n",
       "   periodDate       value_renaming  \n",
       "0  1997-01-01  DRYNATGAS_PROD_MMCF  "
      ]
     },
     "execution_count": 224,
     "metadata": {},
     "output_type": "execute_result"
    }
   ],
   "source": [
    "df_DryGasProd.head(1).to_sql('MetaDryGasProd', con=engine, if_exists='replace', index=False)\n",
    "df_DryGasProd.head(1)"
   ]
  },
  {
   "cell_type": "code",
   "execution_count": 225,
   "id": "8fd5f75c-9bca-45f3-95f9-8bc1b6ccce0b",
   "metadata": {},
   "outputs": [],
   "source": [
    "df_DryGasProd_trab = df_DryGasProd[['periodDate','value']].copy()"
   ]
  },
  {
   "cell_type": "code",
   "execution_count": 226,
   "id": "223a2c88-ec78-4467-89b8-bf5371030c88",
   "metadata": {},
   "outputs": [],
   "source": [
    "df_DryGasProd_trab.rename(columns={'value':'DRYNATGAS_PROD_MMCF'}, inplace=True)"
   ]
  },
  {
   "cell_type": "code",
   "execution_count": 228,
   "id": "f14fd4fc-49f0-402a-926e-f64e8e59e811",
   "metadata": {},
   "outputs": [
    {
     "data": {
      "text/html": [
       "<div>\n",
       "<style scoped>\n",
       "    .dataframe tbody tr th:only-of-type {\n",
       "        vertical-align: middle;\n",
       "    }\n",
       "\n",
       "    .dataframe tbody tr th {\n",
       "        vertical-align: top;\n",
       "    }\n",
       "\n",
       "    .dataframe thead th {\n",
       "        text-align: right;\n",
       "    }\n",
       "</style>\n",
       "<table border=\"1\" class=\"dataframe\">\n",
       "  <thead>\n",
       "    <tr style=\"text-align: right;\">\n",
       "      <th></th>\n",
       "      <th>periodDate</th>\n",
       "      <th>DRYNATGAS_PROD_MMCF</th>\n",
       "    </tr>\n",
       "  </thead>\n",
       "  <tbody>\n",
       "    <tr>\n",
       "      <th>175</th>\n",
       "      <td>2011-08-01</td>\n",
       "      <td>1959548</td>\n",
       "    </tr>\n",
       "    <tr>\n",
       "      <th>124</th>\n",
       "      <td>2007-05-01</td>\n",
       "      <td>1643202</td>\n",
       "    </tr>\n",
       "  </tbody>\n",
       "</table>\n",
       "</div>"
      ],
      "text/plain": [
       "     periodDate  DRYNATGAS_PROD_MMCF\n",
       "175  2011-08-01              1959548\n",
       "124  2007-05-01              1643202"
      ]
     },
     "execution_count": 228,
     "metadata": {},
     "output_type": "execute_result"
    }
   ],
   "source": [
    "df_DryGasProd_trab.sample(2)"
   ]
  },
  {
   "cell_type": "code",
   "execution_count": 229,
   "id": "1b0373bd-0646-4e2a-8f81-4b80b5310363",
   "metadata": {},
   "outputs": [
    {
     "data": {
      "text/html": [
       "<div>\n",
       "<style scoped>\n",
       "    .dataframe tbody tr th:only-of-type {\n",
       "        vertical-align: middle;\n",
       "    }\n",
       "\n",
       "    .dataframe tbody tr th {\n",
       "        vertical-align: top;\n",
       "    }\n",
       "\n",
       "    .dataframe thead th {\n",
       "        text-align: right;\n",
       "    }\n",
       "</style>\n",
       "<table border=\"1\" class=\"dataframe\">\n",
       "  <thead>\n",
       "    <tr style=\"text-align: right;\">\n",
       "      <th></th>\n",
       "      <th>DRYNATGAS_PROD_MMCF</th>\n",
       "    </tr>\n",
       "  </thead>\n",
       "  <tbody>\n",
       "    <tr>\n",
       "      <th>count</th>\n",
       "      <td>3.130000e+02</td>\n",
       "    </tr>\n",
       "    <tr>\n",
       "      <th>mean</th>\n",
       "      <td>1.979829e+06</td>\n",
       "    </tr>\n",
       "    <tr>\n",
       "      <th>std</th>\n",
       "      <td>4.837422e+05</td>\n",
       "    </tr>\n",
       "    <tr>\n",
       "      <th>min</th>\n",
       "      <td>1.336065e+06</td>\n",
       "    </tr>\n",
       "    <tr>\n",
       "      <th>25%</th>\n",
       "      <td>1.593864e+06</td>\n",
       "    </tr>\n",
       "    <tr>\n",
       "      <th>50%</th>\n",
       "      <td>1.755132e+06</td>\n",
       "    </tr>\n",
       "    <tr>\n",
       "      <th>75%</th>\n",
       "      <td>2.266298e+06</td>\n",
       "    </tr>\n",
       "    <tr>\n",
       "      <th>max</th>\n",
       "      <td>3.145142e+06</td>\n",
       "    </tr>\n",
       "  </tbody>\n",
       "</table>\n",
       "</div>"
      ],
      "text/plain": [
       "       DRYNATGAS_PROD_MMCF\n",
       "count         3.130000e+02\n",
       "mean          1.979829e+06\n",
       "std           4.837422e+05\n",
       "min           1.336065e+06\n",
       "25%           1.593864e+06\n",
       "50%           1.755132e+06\n",
       "75%           2.266298e+06\n",
       "max           3.145142e+06"
      ]
     },
     "execution_count": 229,
     "metadata": {},
     "output_type": "execute_result"
    }
   ],
   "source": [
    "df_DryGasProd_trab.describe()"
   ]
  },
  {
   "cell_type": "code",
   "execution_count": 231,
   "id": "f33e820a-ebbe-4aed-b3bf-1162b75b412a",
   "metadata": {},
   "outputs": [
    {
     "data": {
      "text/plain": [
       "313"
      ]
     },
     "execution_count": 231,
     "metadata": {},
     "output_type": "execute_result"
    }
   ],
   "source": [
    "crear_DRYNATGAS_PROD_MMCF = '''\n",
    "CREATE TABLE DryGasProd ( \n",
    "periodDate DATE NOT NULL, \n",
    "DRYNATGAS_PROD_MMCF DECIMAL(9), \n",
    "PRIMARY KEY(periodDate))\n",
    "ENGINE=InnoDB DEFAULT CHARSET=utf8mb4 COLLATE=utf8mb4_unicode_ci;\n",
    "'''\n",
    "\n",
    "with engine.connect() as conn:\n",
    "    sql = text('DROP TABLE IF EXISTS {}'.format('DryGasProd'))\n",
    "    conn.execute(sql)\n",
    "    sql2 = text(crear_DRYNATGAS_PROD_MMCF)\n",
    "    conn.execute(sql2)\n",
    "\n",
    "df_DryGasProd_trab.to_sql('DryGasProd', engine, index=False, if_exists='append')"
   ]
  },
  {
   "cell_type": "markdown",
   "id": "05930742-9580-4bde-9524-2eca4b2665ff",
   "metadata": {},
   "source": [
    "## STEO and MetaSTEO"
   ]
  },
  {
   "cell_type": "code",
   "execution_count": 234,
   "id": "d7aff978-f80c-4ca6-b9b0-c63640a7f038",
   "metadata": {},
   "outputs": [],
   "source": [
    "url_STEO = steo_url = 'https://api.eia.gov/v2/steo/data/?frequency=monthly&data[0]=value&facets[seriesId][]=NGHHUUS&facets[seriesId][]=WTIPUUS&sort[0][column]=period&sort[0][direction]=asc&offset=0&length=5000&start={}'+'&api_key={}'"
   ]
  },
  {
   "cell_type": "code",
   "execution_count": 235,
   "id": "21f17514-eab8-44c4-b528-73e64c744eb6",
   "metadata": {},
   "outputs": [
    {
     "data": {
      "text/plain": [
       "200"
      ]
     },
     "execution_count": 235,
     "metadata": {},
     "output_type": "execute_result"
    }
   ],
   "source": [
    "STEO_qry = requests.get(url_STEO.format('2022-02', api_key))\n",
    "STEO_qry.status_code"
   ]
  },
  {
   "cell_type": "code",
   "execution_count": 236,
   "id": "9d38dbef-3650-440f-bab2-8cc95ef605dd",
   "metadata": {},
   "outputs": [],
   "source": [
    "df_STEO = pd.DataFrame(STEO_qry.json()['response']['data'])"
   ]
  },
  {
   "cell_type": "code",
   "execution_count": 238,
   "id": "7299289c-37ea-4e86-9e26-650825b0756f",
   "metadata": {},
   "outputs": [
    {
     "data": {
      "text/html": [
       "<div>\n",
       "<style scoped>\n",
       "    .dataframe tbody tr th:only-of-type {\n",
       "        vertical-align: middle;\n",
       "    }\n",
       "\n",
       "    .dataframe tbody tr th {\n",
       "        vertical-align: top;\n",
       "    }\n",
       "\n",
       "    .dataframe thead th {\n",
       "        text-align: right;\n",
       "    }\n",
       "</style>\n",
       "<table border=\"1\" class=\"dataframe\">\n",
       "  <thead>\n",
       "    <tr style=\"text-align: right;\">\n",
       "      <th></th>\n",
       "      <th>period</th>\n",
       "      <th>seriesId</th>\n",
       "      <th>seriesDescription</th>\n",
       "      <th>value</th>\n",
       "      <th>unit</th>\n",
       "    </tr>\n",
       "  </thead>\n",
       "  <tbody>\n",
       "    <tr>\n",
       "      <th>68</th>\n",
       "      <td>2024-12</td>\n",
       "      <td>NGHHUUS</td>\n",
       "      <td>Natural Gas Henry Hub Spot Price ($/mmBtu)</td>\n",
       "      <td>4.245872</td>\n",
       "      <td>dollars per million Btu</td>\n",
       "    </tr>\n",
       "    <tr>\n",
       "      <th>69</th>\n",
       "      <td>2024-12</td>\n",
       "      <td>WTIPUUS</td>\n",
       "      <td>West Texas Intermediate Crude Oil Price</td>\n",
       "      <td>69.000000</td>\n",
       "      <td>dollars per barrel</td>\n",
       "    </tr>\n",
       "  </tbody>\n",
       "</table>\n",
       "</div>"
      ],
      "text/plain": [
       "     period seriesId                           seriesDescription      value  \\\n",
       "68  2024-12  NGHHUUS  Natural Gas Henry Hub Spot Price ($/mmBtu)   4.245872   \n",
       "69  2024-12  WTIPUUS     West Texas Intermediate Crude Oil Price  69.000000   \n",
       "\n",
       "                       unit  \n",
       "68  dollars per million Btu  \n",
       "69       dollars per barrel  "
      ]
     },
     "execution_count": 238,
     "metadata": {},
     "output_type": "execute_result"
    }
   ],
   "source": [
    "df_STEO.tail(2)"
   ]
  },
  {
   "cell_type": "code",
   "execution_count": 239,
   "id": "f35b744f-8074-450f-bc03-76e5fcf82c33",
   "metadata": {},
   "outputs": [],
   "source": [
    "df_STEO['periodDate'] = df_STEO['period'].apply(lambda x : dt.date.fromisoformat(x+'-01'))"
   ]
  },
  {
   "cell_type": "code",
   "execution_count": 240,
   "id": "228c7d77-6e62-4cf2-86c9-8fc50b1def74",
   "metadata": {},
   "outputs": [
    {
     "data": {
      "text/plain": [
       "array(['NGHHUUS', 'WTIPUUS'], dtype=object)"
      ]
     },
     "execution_count": 240,
     "metadata": {},
     "output_type": "execute_result"
    }
   ],
   "source": [
    "df_STEO['seriesId'].unique()"
   ]
  },
  {
   "cell_type": "code",
   "execution_count": 241,
   "id": "c8b89f10-6a7b-4d9f-94b5-7f2f22848c80",
   "metadata": {},
   "outputs": [],
   "source": [
    "prod_from_seriesId = {\n",
    "    'NGHHUUS':'HH_NG_PROY_MMBTU',\n",
    "    'WTIPUUS':'WTI_PROY_BBL'\n",
    "}\n",
    "df_STEO['prod'] = df_STEO['seriesId'].map(prod_from_seriesId)"
   ]
  },
  {
   "cell_type": "code",
   "execution_count": 253,
   "id": "e3fcd083-1709-4a1a-b11b-3b120c9ec3b2",
   "metadata": {},
   "outputs": [],
   "source": [
    "df_STEO['updateDate'] = dt.date.today()"
   ]
  },
  {
   "cell_type": "code",
   "execution_count": 254,
   "id": "2076a9f7-c4b6-43d7-9f29-230ede89a836",
   "metadata": {},
   "outputs": [],
   "source": [
    "df_STEO['periodDate'] = df_STEO['period'].apply(lambda x : dt.date.fromisoformat(x+'-01'))"
   ]
  },
  {
   "cell_type": "code",
   "execution_count": 255,
   "id": "11cc1995-458c-4257-acce-28d46e7ec6b9",
   "metadata": {},
   "outputs": [
    {
     "data": {
      "text/html": [
       "<div>\n",
       "<style scoped>\n",
       "    .dataframe tbody tr th:only-of-type {\n",
       "        vertical-align: middle;\n",
       "    }\n",
       "\n",
       "    .dataframe tbody tr th {\n",
       "        vertical-align: top;\n",
       "    }\n",
       "\n",
       "    .dataframe thead th {\n",
       "        text-align: right;\n",
       "    }\n",
       "</style>\n",
       "<table border=\"1\" class=\"dataframe\">\n",
       "  <thead>\n",
       "    <tr style=\"text-align: right;\">\n",
       "      <th></th>\n",
       "      <th>period</th>\n",
       "      <th>seriesId</th>\n",
       "      <th>seriesDescription</th>\n",
       "      <th>value</th>\n",
       "      <th>unit</th>\n",
       "      <th>periodDate</th>\n",
       "      <th>prod</th>\n",
       "      <th>updateDate</th>\n",
       "    </tr>\n",
       "  </thead>\n",
       "  <tbody>\n",
       "    <tr>\n",
       "      <th>68</th>\n",
       "      <td>2024-12</td>\n",
       "      <td>NGHHUUS</td>\n",
       "      <td>Natural Gas Henry Hub Spot Price ($/mmBtu)</td>\n",
       "      <td>4.245872</td>\n",
       "      <td>dollars per million Btu</td>\n",
       "      <td>2024-12-01</td>\n",
       "      <td>HH_NG_PROY_MMBTU</td>\n",
       "      <td>2023-03-31</td>\n",
       "    </tr>\n",
       "    <tr>\n",
       "      <th>69</th>\n",
       "      <td>2024-12</td>\n",
       "      <td>WTIPUUS</td>\n",
       "      <td>West Texas Intermediate Crude Oil Price</td>\n",
       "      <td>69.000000</td>\n",
       "      <td>dollars per barrel</td>\n",
       "      <td>2024-12-01</td>\n",
       "      <td>WTI_PROY_BBL</td>\n",
       "      <td>2023-03-31</td>\n",
       "    </tr>\n",
       "  </tbody>\n",
       "</table>\n",
       "</div>"
      ],
      "text/plain": [
       "     period seriesId                           seriesDescription      value  \\\n",
       "68  2024-12  NGHHUUS  Natural Gas Henry Hub Spot Price ($/mmBtu)   4.245872   \n",
       "69  2024-12  WTIPUUS     West Texas Intermediate Crude Oil Price  69.000000   \n",
       "\n",
       "                       unit  periodDate              prod  updateDate  \n",
       "68  dollars per million Btu  2024-12-01  HH_NG_PROY_MMBTU  2023-03-31  \n",
       "69       dollars per barrel  2024-12-01      WTI_PROY_BBL  2023-03-31  "
      ]
     },
     "execution_count": 255,
     "metadata": {},
     "output_type": "execute_result"
    }
   ],
   "source": [
    "df_STEO.tail(2).to_sql('MetaSTEO', con=engine, if_exists='replace', index=False)\n",
    "df_STEO.tail(2)"
   ]
  },
  {
   "cell_type": "code",
   "execution_count": 261,
   "id": "21c3276d-3638-4f02-a1af-fb7125bdccc1",
   "metadata": {},
   "outputs": [],
   "source": [
    "df_STEO_trab = df_STEO.pivot(index='periodDate', columns='prod', values='value')"
   ]
  },
  {
   "cell_type": "code",
   "execution_count": 262,
   "id": "008f17aa-2eee-4224-9be1-c462bf35d35c",
   "metadata": {},
   "outputs": [],
   "source": [
    "df_STEO_trab['updateDate'] = dt.date.today()"
   ]
  },
  {
   "cell_type": "code",
   "execution_count": 263,
   "id": "9f0ec99a-f351-45f6-a333-7f98885f1718",
   "metadata": {},
   "outputs": [],
   "source": [
    "df_STEO_trab.reset_index(inplace=True)"
   ]
  },
  {
   "cell_type": "code",
   "execution_count": 266,
   "id": "be121898-d611-4a40-8f62-f3dc4addf247",
   "metadata": {},
   "outputs": [
    {
     "data": {
      "text/html": [
       "<div>\n",
       "<style scoped>\n",
       "    .dataframe tbody tr th:only-of-type {\n",
       "        vertical-align: middle;\n",
       "    }\n",
       "\n",
       "    .dataframe tbody tr th {\n",
       "        vertical-align: top;\n",
       "    }\n",
       "\n",
       "    .dataframe thead th {\n",
       "        text-align: right;\n",
       "    }\n",
       "</style>\n",
       "<table border=\"1\" class=\"dataframe\">\n",
       "  <thead>\n",
       "    <tr style=\"text-align: right;\">\n",
       "      <th>prod</th>\n",
       "      <th>periodDate</th>\n",
       "      <th>HH_NG_PROY_MMBTU</th>\n",
       "      <th>WTI_PROY_BBL</th>\n",
       "      <th>updateDate</th>\n",
       "    </tr>\n",
       "  </thead>\n",
       "  <tbody>\n",
       "    <tr>\n",
       "      <th>33</th>\n",
       "      <td>2024-11-01</td>\n",
       "      <td>4.026826</td>\n",
       "      <td>69.0</td>\n",
       "      <td>2023-03-31</td>\n",
       "    </tr>\n",
       "    <tr>\n",
       "      <th>34</th>\n",
       "      <td>2024-12-01</td>\n",
       "      <td>4.245872</td>\n",
       "      <td>69.0</td>\n",
       "      <td>2023-03-31</td>\n",
       "    </tr>\n",
       "  </tbody>\n",
       "</table>\n",
       "</div>"
      ],
      "text/plain": [
       "prod  periodDate  HH_NG_PROY_MMBTU  WTI_PROY_BBL  updateDate\n",
       "33    2024-11-01          4.026826          69.0  2023-03-31\n",
       "34    2024-12-01          4.245872          69.0  2023-03-31"
      ]
     },
     "execution_count": 266,
     "metadata": {},
     "output_type": "execute_result"
    }
   ],
   "source": [
    "df_STEO_trab.tail(2)"
   ]
  },
  {
   "cell_type": "code",
   "execution_count": 265,
   "id": "43135b5d-28c6-4406-80b8-ec16a39f5c4c",
   "metadata": {},
   "outputs": [
    {
     "data": {
      "text/html": [
       "<div>\n",
       "<style scoped>\n",
       "    .dataframe tbody tr th:only-of-type {\n",
       "        vertical-align: middle;\n",
       "    }\n",
       "\n",
       "    .dataframe tbody tr th {\n",
       "        vertical-align: top;\n",
       "    }\n",
       "\n",
       "    .dataframe thead th {\n",
       "        text-align: right;\n",
       "    }\n",
       "</style>\n",
       "<table border=\"1\" class=\"dataframe\">\n",
       "  <thead>\n",
       "    <tr style=\"text-align: right;\">\n",
       "      <th>prod</th>\n",
       "      <th>HH_NG_PROY_MMBTU</th>\n",
       "      <th>WTI_PROY_BBL</th>\n",
       "    </tr>\n",
       "  </thead>\n",
       "  <tbody>\n",
       "    <tr>\n",
       "      <th>count</th>\n",
       "      <td>35.000000</td>\n",
       "      <td>35.000000</td>\n",
       "    </tr>\n",
       "    <tr>\n",
       "      <th>mean</th>\n",
       "      <td>4.444485</td>\n",
       "      <td>81.090571</td>\n",
       "    </tr>\n",
       "    <tr>\n",
       "      <th>std</th>\n",
       "      <td>1.731391</td>\n",
       "      <td>12.413591</td>\n",
       "    </tr>\n",
       "    <tr>\n",
       "      <th>min</th>\n",
       "      <td>2.380000</td>\n",
       "      <td>69.000000</td>\n",
       "    </tr>\n",
       "    <tr>\n",
       "      <th>25%</th>\n",
       "      <td>3.257562</td>\n",
       "      <td>73.500000</td>\n",
       "    </tr>\n",
       "    <tr>\n",
       "      <th>50%</th>\n",
       "      <td>3.833210</td>\n",
       "      <td>76.830000</td>\n",
       "    </tr>\n",
       "    <tr>\n",
       "      <th>75%</th>\n",
       "      <td>5.175000</td>\n",
       "      <td>84.315000</td>\n",
       "    </tr>\n",
       "    <tr>\n",
       "      <th>max</th>\n",
       "      <td>8.800000</td>\n",
       "      <td>114.840000</td>\n",
       "    </tr>\n",
       "  </tbody>\n",
       "</table>\n",
       "</div>"
      ],
      "text/plain": [
       "prod   HH_NG_PROY_MMBTU  WTI_PROY_BBL\n",
       "count         35.000000     35.000000\n",
       "mean           4.444485     81.090571\n",
       "std            1.731391     12.413591\n",
       "min            2.380000     69.000000\n",
       "25%            3.257562     73.500000\n",
       "50%            3.833210     76.830000\n",
       "75%            5.175000     84.315000\n",
       "max            8.800000    114.840000"
      ]
     },
     "execution_count": 265,
     "metadata": {},
     "output_type": "execute_result"
    }
   ],
   "source": [
    "df_STEO_trab.describe()"
   ]
  },
  {
   "cell_type": "code",
   "execution_count": 269,
   "id": "77651299-f8ee-4272-857c-bfa6a129a729",
   "metadata": {},
   "outputs": [
    {
     "data": {
      "text/plain": [
       "35"
      ]
     },
     "execution_count": 269,
     "metadata": {},
     "output_type": "execute_result"
    }
   ],
   "source": [
    "crear_STEO = '''\n",
    "CREATE TABLE STEO ( \n",
    "periodDate DATE NOT NULL,\n",
    "updateDate DATE NOT NULL,\n",
    "HH_NG_PROY_MMBTU DECIMAL(10,6),\n",
    "WTI_PROY_BBL DECIMAL(11,6),\n",
    "PRIMARY KEY(periodDate, updateDate))\n",
    "ENGINE=InnoDB DEFAULT CHARSET=utf8mb4 COLLATE=utf8mb4_unicode_ci;\n",
    "'''\n",
    "\n",
    "with engine.connect() as conn:\n",
    "    sql = text('DROP TABLE IF EXISTS {}'.format('STEO'))\n",
    "    conn.execute(sql)\n",
    "    sql2 = text(crear_STEO)\n",
    "    conn.execute(sql2)\n",
    "\n",
    "df_STEO_trab.to_sql('STEO', engine, index=False, if_exists='append')"
   ]
  },
  {
   "cell_type": "markdown",
   "id": "a4ef3e35-8aa5-45a6-ace5-8c06308d7e38",
   "metadata": {},
   "source": [
    "## APIStrings"
   ]
  },
  {
   "cell_type": "code",
   "execution_count": 309,
   "id": "12f9ccad-d7c9-4602-9633-ddbcf5fd9a25",
   "metadata": {},
   "outputs": [],
   "source": [
    "lines =[\n",
    "    {'dbtable':'OilProd', 'strings': url_OilProd },\n",
    "    {'dbtable':'OilPrice', 'strings': url_OilPrice },\n",
    "    {'dbtable':'NGasPrice', 'strings': url_NGasPrice },\n",
    "    {'dbtable':'NGasStorage', 'strings': url_NGasStorage },\n",
    "    {'dbtable':'DryGasProd', 'strings': url_DryGasProd },\n",
    "    {'dbtable':'STEO', 'strings': url_STEO }\n",
    "]"
   ]
  },
  {
   "cell_type": "code",
   "execution_count": 310,
   "id": "3e34853a-9336-4fcc-bbb1-c817db9c5b90",
   "metadata": {},
   "outputs": [],
   "source": [
    "df_APIStrings = pd.DataFrame(lines)"
   ]
  },
  {
   "cell_type": "code",
   "execution_count": 311,
   "id": "285b948b-f99f-41ad-82b8-309dc952d34d",
   "metadata": {},
   "outputs": [
    {
     "data": {
      "text/html": [
       "<div>\n",
       "<style scoped>\n",
       "    .dataframe tbody tr th:only-of-type {\n",
       "        vertical-align: middle;\n",
       "    }\n",
       "\n",
       "    .dataframe tbody tr th {\n",
       "        vertical-align: top;\n",
       "    }\n",
       "\n",
       "    .dataframe thead th {\n",
       "        text-align: right;\n",
       "    }\n",
       "</style>\n",
       "<table border=\"1\" class=\"dataframe\">\n",
       "  <thead>\n",
       "    <tr style=\"text-align: right;\">\n",
       "      <th></th>\n",
       "      <th>dbtable</th>\n",
       "      <th>strings</th>\n",
       "    </tr>\n",
       "  </thead>\n",
       "  <tbody>\n",
       "    <tr>\n",
       "      <th>0</th>\n",
       "      <td>OilProd</td>\n",
       "      <td>https://api.eia.gov/v2/petroleum/crd/crpdn/dat...</td>\n",
       "    </tr>\n",
       "    <tr>\n",
       "      <th>1</th>\n",
       "      <td>OilPrice</td>\n",
       "      <td>https://api.eia.gov/v2/petroleum/pri/spt/data/...</td>\n",
       "    </tr>\n",
       "    <tr>\n",
       "      <th>2</th>\n",
       "      <td>NGasPrice</td>\n",
       "      <td>https://api.eia.gov/v2/natural-gas/pri/fut/dat...</td>\n",
       "    </tr>\n",
       "    <tr>\n",
       "      <th>3</th>\n",
       "      <td>NGasStorage</td>\n",
       "      <td>https://api.eia.gov/v2/natural-gas/stor/sum/da...</td>\n",
       "    </tr>\n",
       "    <tr>\n",
       "      <th>4</th>\n",
       "      <td>DryGasProd</td>\n",
       "      <td>https://api.eia.gov/v2/natural-gas/prod/sum/da...</td>\n",
       "    </tr>\n",
       "    <tr>\n",
       "      <th>5</th>\n",
       "      <td>STEO</td>\n",
       "      <td>https://api.eia.gov/v2/steo/data/?frequency=mo...</td>\n",
       "    </tr>\n",
       "  </tbody>\n",
       "</table>\n",
       "</div>"
      ],
      "text/plain": [
       "       dbtable                                            strings\n",
       "0      OilProd  https://api.eia.gov/v2/petroleum/crd/crpdn/dat...\n",
       "1     OilPrice  https://api.eia.gov/v2/petroleum/pri/spt/data/...\n",
       "2    NGasPrice  https://api.eia.gov/v2/natural-gas/pri/fut/dat...\n",
       "3  NGasStorage  https://api.eia.gov/v2/natural-gas/stor/sum/da...\n",
       "4   DryGasProd  https://api.eia.gov/v2/natural-gas/prod/sum/da...\n",
       "5         STEO  https://api.eia.gov/v2/steo/data/?frequency=mo..."
      ]
     },
     "execution_count": 311,
     "metadata": {},
     "output_type": "execute_result"
    }
   ],
   "source": [
    "df_APIStrings"
   ]
  },
  {
   "cell_type": "code",
   "execution_count": 340,
   "id": "eb7de7ab-f8bd-4c3f-ab70-2d1e5687d596",
   "metadata": {},
   "outputs": [],
   "source": [
    "df_APIStrings['lendbtable'] = df_APIStrings['dbtable'].apply(lambda x : len(x))\n",
    "df_APIStrings['lenstrings'] = df_APIStrings['strings'].apply(lambda x : len(x))"
   ]
  },
  {
   "cell_type": "code",
   "execution_count": 341,
   "id": "0b2719b0-f59e-4c95-9f3e-2c2955285ab1",
   "metadata": {},
   "outputs": [
    {
     "data": {
      "text/html": [
       "<div>\n",
       "<style scoped>\n",
       "    .dataframe tbody tr th:only-of-type {\n",
       "        vertical-align: middle;\n",
       "    }\n",
       "\n",
       "    .dataframe tbody tr th {\n",
       "        vertical-align: top;\n",
       "    }\n",
       "\n",
       "    .dataframe thead th {\n",
       "        text-align: right;\n",
       "    }\n",
       "</style>\n",
       "<table border=\"1\" class=\"dataframe\">\n",
       "  <thead>\n",
       "    <tr style=\"text-align: right;\">\n",
       "      <th></th>\n",
       "      <th>dbtable</th>\n",
       "      <th>strings</th>\n",
       "      <th>lendbtable</th>\n",
       "      <th>lenstrings</th>\n",
       "    </tr>\n",
       "  </thead>\n",
       "  <tbody>\n",
       "    <tr>\n",
       "      <th>0</th>\n",
       "      <td>OilProd</td>\n",
       "      <td>https://api.eia.gov/v2/petroleum/crd/crpdn/dat...</td>\n",
       "      <td>7</td>\n",
       "      <td>307</td>\n",
       "    </tr>\n",
       "    <tr>\n",
       "      <th>1</th>\n",
       "      <td>OilPrice</td>\n",
       "      <td>https://api.eia.gov/v2/petroleum/pri/spt/data/...</td>\n",
       "      <td>8</td>\n",
       "      <td>303</td>\n",
       "    </tr>\n",
       "    <tr>\n",
       "      <th>2</th>\n",
       "      <td>NGasPrice</td>\n",
       "      <td>https://api.eia.gov/v2/natural-gas/pri/fut/dat...</td>\n",
       "      <td>9</td>\n",
       "      <td>294</td>\n",
       "    </tr>\n",
       "    <tr>\n",
       "      <th>3</th>\n",
       "      <td>NGasStorage</td>\n",
       "      <td>https://api.eia.gov/v2/natural-gas/stor/sum/da...</td>\n",
       "      <td>11</td>\n",
       "      <td>239</td>\n",
       "    </tr>\n",
       "    <tr>\n",
       "      <th>4</th>\n",
       "      <td>DryGasProd</td>\n",
       "      <td>https://api.eia.gov/v2/natural-gas/prod/sum/da...</td>\n",
       "      <td>10</td>\n",
       "      <td>223</td>\n",
       "    </tr>\n",
       "    <tr>\n",
       "      <th>5</th>\n",
       "      <td>STEO</td>\n",
       "      <td>https://api.eia.gov/v2/steo/data/?frequency=mo...</td>\n",
       "      <td>4</td>\n",
       "      <td>206</td>\n",
       "    </tr>\n",
       "  </tbody>\n",
       "</table>\n",
       "</div>"
      ],
      "text/plain": [
       "       dbtable                                            strings  lendbtable  \\\n",
       "0      OilProd  https://api.eia.gov/v2/petroleum/crd/crpdn/dat...           7   \n",
       "1     OilPrice  https://api.eia.gov/v2/petroleum/pri/spt/data/...           8   \n",
       "2    NGasPrice  https://api.eia.gov/v2/natural-gas/pri/fut/dat...           9   \n",
       "3  NGasStorage  https://api.eia.gov/v2/natural-gas/stor/sum/da...          11   \n",
       "4   DryGasProd  https://api.eia.gov/v2/natural-gas/prod/sum/da...          10   \n",
       "5         STEO  https://api.eia.gov/v2/steo/data/?frequency=mo...           4   \n",
       "\n",
       "   lenstrings  \n",
       "0         307  \n",
       "1         303  \n",
       "2         294  \n",
       "3         239  \n",
       "4         223  \n",
       "5         206  "
      ]
     },
     "execution_count": 341,
     "metadata": {},
     "output_type": "execute_result"
    }
   ],
   "source": [
    "df_APIStrings"
   ]
  },
  {
   "cell_type": "code",
   "execution_count": 342,
   "id": "35cc40d6-c67e-4d0e-8d22-8698054f5971",
   "metadata": {},
   "outputs": [
    {
     "data": {
      "text/plain": [
       "6"
      ]
     },
     "execution_count": 342,
     "metadata": {},
     "output_type": "execute_result"
    }
   ],
   "source": [
    "crear_API = '''\n",
    "CREATE TABLE APIStrings ( \n",
    "dbtable VARCHAR(11) NOT NULL, \n",
    "strings VARCHAR(310), \n",
    "PRIMARY KEY(dbtable))\n",
    "ENGINE=InnoDB DEFAULT CHARSET=utf8mb4 COLLATE=utf8mb4_unicode_ci;\n",
    "'''\n",
    "\n",
    "with engine.connect() as conn:\n",
    "    sql = text('DROP TABLE IF EXISTS {}'.format('APIStrings'))\n",
    "    conn.execute(sql)\n",
    "    sql2 = text(crear_API)\n",
    "    conn.execute(sql2)\n",
    "\n",
    "df_APIStrings[['dbtable', 'strings']].to_sql('APIStrings', engine, index=False, if_exists='append')"
   ]
  },
  {
   "cell_type": "markdown",
   "id": "331321f9-11be-45ac-9e52-075aff7deee4",
   "metadata": {},
   "source": [
    "##### Just a quick validation:"
   ]
  },
  {
   "cell_type": "code",
   "execution_count": 343,
   "id": "c45b5e6e-81a5-41b4-9613-97d1ce41ebd4",
   "metadata": {},
   "outputs": [],
   "source": [
    "with engine.connect() as conn:\n",
    "    qry = text('SELECT * FROM APIStrings')\n",
    "    res = conn.execute(qry)"
   ]
  },
  {
   "cell_type": "code",
   "execution_count": 344,
   "id": "19e1981e-64a7-434a-acc7-ba72ce439d3e",
   "metadata": {},
   "outputs": [],
   "source": [
    "resp = res.all()"
   ]
  },
  {
   "cell_type": "code",
   "execution_count": 346,
   "id": "4360cc95-8d74-4268-8e73-a3bbd1d6e255",
   "metadata": {},
   "outputs": [],
   "source": [
    "df_api = pd.DataFrame(resp)"
   ]
  },
  {
   "cell_type": "code",
   "execution_count": 357,
   "id": "79009bc0-a8c3-45c9-8ddf-c4ac58b4ee4c",
   "metadata": {},
   "outputs": [
    {
     "data": {
      "text/plain": [
       "'https://api.eia.gov/v2/petroleum/crd/crpdn/data/?frequency=monthly&data[0]=value&facets[series][]=MCRFPP11&facets[series][]=MCRFPP21&facets[series][]=MCRFPP31&facets[series][]=MCRFPP41&facets[series][]=MCRFPP51&start={0}&end={1}&sort[0][column]=period&sort[0][direction]=asc&offset=0&length=5000&api_key={2}'"
      ]
     },
     "execution_count": 357,
     "metadata": {},
     "output_type": "execute_result"
    }
   ],
   "source": [
    "df_api[df_api['dbtable'] == 'OilProd']['strings'].values[0]"
   ]
  },
  {
   "cell_type": "code",
   "execution_count": 358,
   "id": "3a76c8bd-1c7a-4c18-8843-889f964802d4",
   "metadata": {},
   "outputs": [
    {
     "data": {
      "text/plain": [
       "'https://api.eia.gov/v2/petroleum/crd/crpdn/data/?frequency=monthly&data[0]=value&facets[series][]=MCRFPP11&facets[series][]=MCRFPP21&facets[series][]=MCRFPP31&facets[series][]=MCRFPP41&facets[series][]=MCRFPP51&start={0}&end={1}&sort[0][column]=period&sort[0][direction]=asc&offset=0&length=5000&api_key={2}'"
      ]
     },
     "execution_count": 358,
     "metadata": {},
     "output_type": "execute_result"
    }
   ],
   "source": [
    "url_OilProd"
   ]
  },
  {
   "cell_type": "code",
   "execution_count": 360,
   "id": "f80c88e0-36c8-4bb3-a009-5cc6a4a9b1ad",
   "metadata": {},
   "outputs": [
    {
     "data": {
      "text/plain": [
       "True"
      ]
     },
     "execution_count": 360,
     "metadata": {},
     "output_type": "execute_result"
    }
   ],
   "source": [
    "df_api[df_api['dbtable'] == 'OilProd']['strings'].values[0] == url_OilProd"
   ]
  },
  {
   "cell_type": "code",
   "execution_count": 359,
   "id": "9a1a4181-ab55-4d3f-90a8-b01dd8c19ae9",
   "metadata": {},
   "outputs": [],
   "source": [
    "engine.dispose()"
   ]
  }
 ],
 "metadata": {
  "kernelspec": {
   "display_name": "Python 3 (ipykernel)",
   "language": "python",
   "name": "python3"
  },
  "language_info": {
   "codemirror_mode": {
    "name": "ipython",
    "version": 3
   },
   "file_extension": ".py",
   "mimetype": "text/x-python",
   "name": "python",
   "nbconvert_exporter": "python",
   "pygments_lexer": "ipython3",
   "version": "3.9.5"
  }
 },
 "nbformat": 4,
 "nbformat_minor": 5
}
