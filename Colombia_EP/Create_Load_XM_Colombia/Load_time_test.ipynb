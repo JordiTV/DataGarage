{
 "cells": [
  {
   "cell_type": "markdown",
   "id": "70575746-46f1-4d6a-b230-86fd34223830",
   "metadata": {},
   "source": [
    "<h2 align=\"center\">Loading Times.</h2>  \n",
    "By: Jordi Tarragó i Vidal  "
   ]
  },
  {
   "cell_type": "code",
   "execution_count": 1,
   "id": "bc707b8f-fafd-4f08-8dd9-ac60f227aabc",
   "metadata": {},
   "outputs": [],
   "source": [
    "import pandas as pd\n",
    "import sqlalchemy\n",
    "import pymysql\n",
    "from sqlalchemy import create_engine\n",
    "from sqlalchemy import text"
   ]
  },
  {
   "cell_type": "code",
   "execution_count": 20,
   "id": "59d7b984-ecdc-4028-8a49-237e0a2005e7",
   "metadata": {},
   "outputs": [],
   "source": [
    "from sqlalchemy import event"
   ]
  },
  {
   "cell_type": "code",
   "execution_count": 2,
   "id": "27fd3995-c77b-4627-ae8c-d58bfb1fe3d8",
   "metadata": {},
   "outputs": [],
   "source": [
    "from dgxm import precio_horario"
   ]
  },
  {
   "cell_type": "code",
   "execution_count": 3,
   "id": "2aa73608-0197-47ef-9317-ab5ed3dc5f69",
   "metadata": {},
   "outputs": [],
   "source": [
    "df_2018 = precio_horario('PrecBolsNaci', '2018-01-01', '2018-12-31')"
   ]
  },
  {
   "cell_type": "code",
   "execution_count": 4,
   "id": "950050b9-ade3-44c7-b1ed-f6429e86fbae",
   "metadata": {},
   "outputs": [
    {
     "data": {
      "text/html": [
       "<div>\n",
       "<style scoped>\n",
       "    .dataframe tbody tr th:only-of-type {\n",
       "        vertical-align: middle;\n",
       "    }\n",
       "\n",
       "    .dataframe tbody tr th {\n",
       "        vertical-align: top;\n",
       "    }\n",
       "\n",
       "    .dataframe thead th {\n",
       "        text-align: right;\n",
       "    }\n",
       "</style>\n",
       "<table border=\"1\" class=\"dataframe\">\n",
       "  <thead>\n",
       "    <tr style=\"text-align: right;\">\n",
       "      <th></th>\n",
       "      <th>PrecBolsNaci</th>\n",
       "    </tr>\n",
       "  </thead>\n",
       "  <tbody>\n",
       "    <tr>\n",
       "      <th>count</th>\n",
       "      <td>8760.000000</td>\n",
       "    </tr>\n",
       "    <tr>\n",
       "      <th>mean</th>\n",
       "      <td>116.248822</td>\n",
       "    </tr>\n",
       "    <tr>\n",
       "      <th>std</th>\n",
       "      <td>49.623942</td>\n",
       "    </tr>\n",
       "    <tr>\n",
       "      <th>min</th>\n",
       "      <td>61.458540</td>\n",
       "    </tr>\n",
       "    <tr>\n",
       "      <th>25%</th>\n",
       "      <td>74.099580</td>\n",
       "    </tr>\n",
       "    <tr>\n",
       "      <th>50%</th>\n",
       "      <td>102.662830</td>\n",
       "    </tr>\n",
       "    <tr>\n",
       "      <th>75%</th>\n",
       "      <td>142.933030</td>\n",
       "    </tr>\n",
       "    <tr>\n",
       "      <th>max</th>\n",
       "      <td>555.119010</td>\n",
       "    </tr>\n",
       "  </tbody>\n",
       "</table>\n",
       "</div>"
      ],
      "text/plain": [
       "       PrecBolsNaci\n",
       "count   8760.000000\n",
       "mean     116.248822\n",
       "std       49.623942\n",
       "min       61.458540\n",
       "25%       74.099580\n",
       "50%      102.662830\n",
       "75%      142.933030\n",
       "max      555.119010"
      ]
     },
     "execution_count": 4,
     "metadata": {},
     "output_type": "execute_result"
    }
   ],
   "source": [
    "df_2018.describe()"
   ]
  },
  {
   "cell_type": "code",
   "execution_count": 5,
   "id": "64705720-3876-4e44-a10c-64f433dd8428",
   "metadata": {},
   "outputs": [
    {
     "data": {
      "text/plain": [
       "0"
      ]
     },
     "execution_count": 5,
     "metadata": {},
     "output_type": "execute_result"
    }
   ],
   "source": [
    "df_2018.isna().sum().sum()"
   ]
  },
  {
   "cell_type": "code",
   "execution_count": 6,
   "id": "89f6f449-6774-4373-a4f7-e3cb9f75b03e",
   "metadata": {},
   "outputs": [
    {
     "data": {
      "text/html": [
       "<div>\n",
       "<style scoped>\n",
       "    .dataframe tbody tr th:only-of-type {\n",
       "        vertical-align: middle;\n",
       "    }\n",
       "\n",
       "    .dataframe tbody tr th {\n",
       "        vertical-align: top;\n",
       "    }\n",
       "\n",
       "    .dataframe thead th {\n",
       "        text-align: right;\n",
       "    }\n",
       "</style>\n",
       "<table border=\"1\" class=\"dataframe\">\n",
       "  <thead>\n",
       "    <tr style=\"text-align: right;\">\n",
       "      <th></th>\n",
       "      <th>Fecha</th>\n",
       "      <th>PrecBolsNaci</th>\n",
       "    </tr>\n",
       "  </thead>\n",
       "  <tbody>\n",
       "    <tr>\n",
       "      <th>0</th>\n",
       "      <td>2018-01-01 00:00:00</td>\n",
       "      <td>123.16729</td>\n",
       "    </tr>\n",
       "    <tr>\n",
       "      <th>1</th>\n",
       "      <td>2018-01-01 01:00:00</td>\n",
       "      <td>123.16729</td>\n",
       "    </tr>\n",
       "  </tbody>\n",
       "</table>\n",
       "</div>"
      ],
      "text/plain": [
       "                Fecha  PrecBolsNaci\n",
       "0 2018-01-01 00:00:00     123.16729\n",
       "1 2018-01-01 01:00:00     123.16729"
      ]
     },
     "execution_count": 6,
     "metadata": {},
     "output_type": "execute_result"
    }
   ],
   "source": [
    "df_2018.head(2)"
   ]
  },
  {
   "cell_type": "code",
   "execution_count": 7,
   "id": "f4bbe45b-9bd9-44f4-9850-fb720b90c1cb",
   "metadata": {},
   "outputs": [],
   "source": [
    "df_2018.to_csv('Precios_Bolsa_2018.csv', index=False, encoding='utf-8')"
   ]
  },
  {
   "cell_type": "code",
   "execution_count": 8,
   "id": "9b861413-bb33-48c2-b487-7cee321f13c5",
   "metadata": {},
   "outputs": [],
   "source": [
    "with open('db_string', 'r') as cadena:\n",
    "    engine = create_engine(cadena.readline())"
   ]
  },
  {
   "cell_type": "code",
   "execution_count": 14,
   "id": "8bd9b1c2-60ac-490c-aa25-eb6486c4f54b",
   "metadata": {},
   "outputs": [],
   "source": [
    "with engine.connect() as conn:\n",
    "    sql = text('DESCRIBE PrecioBolsa')\n",
    "    results = conn.execute(sql)"
   ]
  },
  {
   "cell_type": "code",
   "execution_count": 15,
   "id": "da09628e-0cdc-4b07-aac9-dcd18244e8ed",
   "metadata": {},
   "outputs": [
    {
     "name": "stdout",
     "output_type": "stream",
     "text": [
      "\n",
      " ('Fecha', 'datetime', 'NO', 'PRI', None, '')\n",
      "\n",
      " ('PrecBolsNaci', 'decimal(12,5)', 'YES', '', None, '')\n"
     ]
    }
   ],
   "source": [
    "for record in results:\n",
    "    print(\"\\n\", record)"
   ]
  },
  {
   "cell_type": "code",
   "execution_count": 16,
   "id": "0a92646e-5e0d-4a9c-a802-0da97db67792",
   "metadata": {},
   "outputs": [],
   "source": [
    "with engine.connect() as conn:\n",
    "    sql = text('TRUNCATE PrecioBolsa')\n",
    "    results = conn.execute(sql)"
   ]
  },
  {
   "cell_type": "code",
   "execution_count": 17,
   "id": "e5de91b4-da94-4188-940d-e5db915ec992",
   "metadata": {},
   "outputs": [
    {
     "name": "stdout",
     "output_type": "stream",
     "text": [
      "CPU times: user 56.8 ms, sys: 0 ns, total: 56.8 ms\n",
      "Wall time: 2.09 s\n"
     ]
    },
    {
     "data": {
      "text/plain": [
       "8760"
      ]
     },
     "execution_count": 17,
     "metadata": {},
     "output_type": "execute_result"
    }
   ],
   "source": [
    "%%time\n",
    "\n",
    "df_2018.to_sql('PrecioBolsa', engine, index=False, if_exists=\"append\")"
   ]
  },
  {
   "cell_type": "code",
   "execution_count": 18,
   "id": "c7ac959d-7bfb-4a1d-96ed-d7c664ddfb8b",
   "metadata": {},
   "outputs": [],
   "source": [
    "with engine.connect() as conn:\n",
    "    sql = text('TRUNCATE PrecioBolsa')\n",
    "    results = conn.execute(sql)"
   ]
  },
  {
   "cell_type": "code",
   "execution_count": 21,
   "id": "d0937f65-c440-4713-9f6b-1413a44850da",
   "metadata": {},
   "outputs": [],
   "source": [
    "@event.listens_for(engine, \"before_cursor_execute\")\n",
    "def receive_before_cursor_execute(conn,\n",
    "cursor, statement, params, context, executemany):\n",
    "    if executemany:\n",
    "        cursor.fast_executemany = True"
   ]
  },
  {
   "cell_type": "code",
   "execution_count": 22,
   "id": "54fa347c-727f-49b7-bbd1-3957f92487e1",
   "metadata": {},
   "outputs": [
    {
     "name": "stdout",
     "output_type": "stream",
     "text": [
      "[]\n"
     ]
    }
   ],
   "source": [
    "with engine.connect() as conn:\n",
    "    sql = text('SELECT * FROM PrecioBolsa LIMIT 5')\n",
    "    results = conn.execute(sql)\n",
    "    print(results.all())"
   ]
  },
  {
   "cell_type": "code",
   "execution_count": 23,
   "id": "70a8f473-8d95-4a80-99f6-6aa4e8621a0b",
   "metadata": {},
   "outputs": [
    {
     "name": "stdout",
     "output_type": "stream",
     "text": [
      "CPU times: user 56.3 ms, sys: 0 ns, total: 56.3 ms\n",
      "Wall time: 2.41 s\n"
     ]
    },
    {
     "data": {
      "text/plain": [
       "8760"
      ]
     },
     "execution_count": 23,
     "metadata": {},
     "output_type": "execute_result"
    }
   ],
   "source": [
    "%%time\n",
    "\n",
    "df_2018.to_sql('PrecioBolsa', engine, index=False, if_exists=\"append\")"
   ]
  },
  {
   "cell_type": "code",
   "execution_count": 24,
   "id": "45e9ae4b-c4d3-4f32-9826-e75d0b90bfec",
   "metadata": {},
   "outputs": [
    {
     "name": "stdout",
     "output_type": "stream",
     "text": [
      "[(datetime.datetime(2018, 1, 1, 0, 0), Decimal('123.16729')), (datetime.datetime(2018, 1, 1, 1, 0), Decimal('123.16729')), (datetime.datetime(2018, 1, 1, 2, 0), Decimal('123.16729')), (datetime.datetime(2018, 1, 1, 3, 0), Decimal('123.16729')), (datetime.datetime(2018, 1, 1, 4, 0), Decimal('123.16729'))]\n"
     ]
    }
   ],
   "source": [
    "with engine.connect() as conn:\n",
    "    sql = text('SELECT * FROM PrecioBolsa LIMIT 5')\n",
    "    results = conn.execute(sql)\n",
    "    print(results.all())"
   ]
  },
  {
   "cell_type": "code",
   "execution_count": 25,
   "id": "ed90f65b-90ae-456d-8ac3-354c251483be",
   "metadata": {},
   "outputs": [],
   "source": [
    "engine.dispose()"
   ]
  }
 ],
 "metadata": {
  "kernelspec": {
   "display_name": "Python 3 (ipykernel)",
   "language": "python",
   "name": "python3"
  },
  "language_info": {
   "codemirror_mode": {
    "name": "ipython",
    "version": 3
   },
   "file_extension": ".py",
   "mimetype": "text/x-python",
   "name": "python",
   "nbconvert_exporter": "python",
   "pygments_lexer": "ipython3",
   "version": "3.9.5"
  }
 },
 "nbformat": 4,
 "nbformat_minor": 5
}
